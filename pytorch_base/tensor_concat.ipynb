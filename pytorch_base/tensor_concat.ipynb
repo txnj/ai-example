{
 "cells": [
  {
   "cell_type": "code",
   "id": "initial_id",
   "metadata": {
    "collapsed": true,
    "ExecuteTime": {
     "end_time": "2024-09-05T14:43:26.976326Z",
     "start_time": "2024-09-05T14:42:09.907046Z"
    }
   },
   "source": [
    "import torch\n",
    "\n",
    "a = torch.zeros(2, 4)\n",
    "b = torch.ones(2, 4)\n",
    "print(a)\n",
    "print(b)\n",
    "print(torch.cat((a, b), dim=0))"
   ],
   "outputs": [
    {
     "ename": "KeyboardInterrupt",
     "evalue": "",
     "output_type": "error",
     "traceback": [
      "\u001B[1;31m---------------------------------------------------------------------------\u001B[0m",
      "\u001B[1;31mKeyboardInterrupt\u001B[0m                         Traceback (most recent call last)",
      "Cell \u001B[1;32mIn[1], line 1\u001B[0m\n\u001B[1;32m----> 1\u001B[0m \u001B[38;5;28;01mimport\u001B[39;00m \u001B[38;5;21;01mtorch\u001B[39;00m\n\u001B[0;32m      3\u001B[0m a \u001B[38;5;241m=\u001B[39m torch\u001B[38;5;241m.\u001B[39mzeros(\u001B[38;5;241m2\u001B[39m, \u001B[38;5;241m4\u001B[39m)\n\u001B[0;32m      4\u001B[0m b \u001B[38;5;241m=\u001B[39m torch\u001B[38;5;241m.\u001B[39mones(\u001B[38;5;241m2\u001B[39m, \u001B[38;5;241m4\u001B[39m)\n",
      "File \u001B[1;32mD:\\github\\txnj\\ai-example\\.venv\\lib\\site-packages\\torch\\__init__.py:132\u001B[0m\n\u001B[0;32m    130\u001B[0m is_loaded \u001B[38;5;241m=\u001B[39m \u001B[38;5;28;01mFalse\u001B[39;00m\n\u001B[0;32m    131\u001B[0m \u001B[38;5;28;01mif\u001B[39;00m with_load_library_flags:\n\u001B[1;32m--> 132\u001B[0m     res \u001B[38;5;241m=\u001B[39m \u001B[43mkernel32\u001B[49m\u001B[38;5;241;43m.\u001B[39;49m\u001B[43mLoadLibraryExW\u001B[49m\u001B[43m(\u001B[49m\u001B[43mdll\u001B[49m\u001B[43m,\u001B[49m\u001B[43m \u001B[49m\u001B[38;5;28;43;01mNone\u001B[39;49;00m\u001B[43m,\u001B[49m\u001B[43m \u001B[49m\u001B[38;5;241;43m0x00001100\u001B[39;49m\u001B[43m)\u001B[49m\n\u001B[0;32m    133\u001B[0m     last_error \u001B[38;5;241m=\u001B[39m ctypes\u001B[38;5;241m.\u001B[39mget_last_error()\n\u001B[0;32m    134\u001B[0m     \u001B[38;5;28;01mif\u001B[39;00m res \u001B[38;5;129;01mis\u001B[39;00m \u001B[38;5;28;01mNone\u001B[39;00m \u001B[38;5;129;01mand\u001B[39;00m last_error \u001B[38;5;241m!=\u001B[39m \u001B[38;5;241m126\u001B[39m:\n",
      "\u001B[1;31mKeyboardInterrupt\u001B[0m: "
     ]
    }
   ],
   "execution_count": 1
  },
  {
   "metadata": {
    "ExecuteTime": {
     "end_time": "2024-09-05T07:15:01.220852Z",
     "start_time": "2024-09-05T07:15:01.206211Z"
    }
   },
   "cell_type": "code",
   "source": [
    "a = torch.linspace(1, 10, 6).view(2, 3)\n",
    "b = torch.linspace(7, 14, 6).view(2, 3)\n",
    "print(a)\n",
    "print(b)\n",
    "torch.stack((a, b), dim=0)"
   ],
   "id": "e8a3f44a96b9123d",
   "outputs": [
    {
     "name": "stdout",
     "output_type": "stream",
     "text": [
      "tensor([[ 1.0000,  2.8000,  4.6000],\n",
      "        [ 6.4000,  8.2000, 10.0000]])\n",
      "tensor([[ 7.0000,  8.4000,  9.8000],\n",
      "        [11.2000, 12.6000, 14.0000]])\n"
     ]
    },
    {
     "data": {
      "text/plain": [
       "tensor([[[ 1.0000,  2.8000,  4.6000],\n",
       "         [ 6.4000,  8.2000, 10.0000]],\n",
       "\n",
       "        [[ 7.0000,  8.4000,  9.8000],\n",
       "         [11.2000, 12.6000, 14.0000]]])"
      ]
     },
     "execution_count": 10,
     "metadata": {},
     "output_type": "execute_result"
    }
   ],
   "execution_count": 10
  },
  {
   "metadata": {},
   "cell_type": "code",
   "outputs": [],
   "execution_count": null,
   "source": "",
   "id": "3c333b2e0f6311bb"
  }
 ],
 "metadata": {
  "kernelspec": {
   "display_name": "Python 3",
   "language": "python",
   "name": "python3"
  },
  "language_info": {
   "codemirror_mode": {
    "name": "ipython",
    "version": 2
   },
   "file_extension": ".py",
   "mimetype": "text/x-python",
   "name": "python",
   "nbconvert_exporter": "python",
   "pygments_lexer": "ipython2",
   "version": "2.7.6"
  }
 },
 "nbformat": 4,
 "nbformat_minor": 5
}
