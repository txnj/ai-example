{
 "cells": [
  {
   "cell_type": "code",
   "id": "initial_id",
   "metadata": {
    "collapsed": true,
    "ExecuteTime": {
     "end_time": "2024-09-05T02:12:48.972715Z",
     "start_time": "2024-09-05T02:12:47.633587Z"
    }
   },
   "source": "import torch\n",
   "outputs": [],
   "execution_count": 1
  },
  {
   "metadata": {
    "ExecuteTime": {
     "end_time": "2024-09-05T02:15:14.154237Z",
     "start_time": "2024-09-05T02:15:14.137412Z"
    }
   },
   "cell_type": "code",
   "source": [
    "# add\n",
    "a = torch.rand(2, 3)\n",
    "b = torch.rand(2, 3)\n",
    "print(a)\n",
    "a.add_(b)\n",
    "print(a)"
   ],
   "id": "57e40ff4bce33266",
   "outputs": [
    {
     "name": "stdout",
     "output_type": "stream",
     "text": [
      "tensor([[0.7824, 0.7560, 0.6236],\n",
      "        [0.3049, 0.6096, 0.4044]])\n",
      "tensor([[1.1826, 0.7620, 0.9682],\n",
      "        [0.4150, 0.9610, 1.3661]])\n"
     ]
    }
   ],
   "execution_count": 11
  },
  {
   "metadata": {
    "ExecuteTime": {
     "end_time": "2024-09-05T02:27:20.701085Z",
     "start_time": "2024-09-05T02:27:20.688677Z"
    }
   },
   "cell_type": "code",
   "source": [
    "# 广播\n",
    "# 1. 进行运算的张量最少有一个维度\n",
    "# 2. 满足右对齐(相等或者运算的张量有一个为1)\n",
    "import torch\n",
    "\n",
    "a = torch.rand(2, 3)\n",
    "b = torch.rand(3)\n",
    "print(a)\n",
    "print(b)\n",
    "print(a.add_(b))\n",
    "print(a.shape)"
   ],
   "id": "b85f78a87df573b9",
   "outputs": [
    {
     "name": "stdout",
     "output_type": "stream",
     "text": [
      "tensor([[0.0834, 0.7662, 0.8638],\n",
      "        [0.6162, 0.4727, 0.7166]])\n",
      "tensor([0.1825, 0.2655, 0.3152])\n",
      "tensor([[0.2659, 1.0317, 1.1790],\n",
      "        [0.7987, 0.7382, 1.0318]])\n",
      "torch.Size([2, 3])\n"
     ]
    }
   ],
   "execution_count": 19
  },
  {
   "metadata": {},
   "cell_type": "code",
   "outputs": [],
   "execution_count": null,
   "source": "",
   "id": "d5c8abf3b9d50974"
  }
 ],
 "metadata": {
  "kernelspec": {
   "display_name": "Python 3",
   "language": "python",
   "name": "python3"
  },
  "language_info": {
   "codemirror_mode": {
    "name": "ipython",
    "version": 2
   },
   "file_extension": ".py",
   "mimetype": "text/x-python",
   "name": "python",
   "nbconvert_exporter": "python",
   "pygments_lexer": "ipython2",
   "version": "2.7.6"
  }
 },
 "nbformat": 4,
 "nbformat_minor": 5
}
