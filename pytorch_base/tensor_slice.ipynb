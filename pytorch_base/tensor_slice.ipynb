{
 "cells": [
  {
   "cell_type": "code",
   "id": "initial_id",
   "metadata": {
    "collapsed": true,
    "ExecuteTime": {
     "end_time": "2024-09-05T07:31:06.978190Z",
     "start_time": "2024-09-05T07:31:06.971778Z"
    }
   },
   "source": [
    "import torch\n",
    "\n",
    "# torch.chunk\n",
    "\n",
    "a = torch.rand(3, 4)\n",
    "print(a)\n",
    "print(torch.chunk(a, 2, dim=0))\n"
   ],
   "outputs": [
    {
     "name": "stdout",
     "output_type": "stream",
     "text": [
      "tensor([[0.1710, 0.4024, 0.5296, 0.1457],\n",
      "        [0.7814, 0.5298, 0.2474, 0.7373],\n",
      "        [0.9559, 0.0689, 0.7054, 0.1167]])\n",
      "(tensor([[0.1710, 0.4024, 0.5296, 0.1457],\n",
      "        [0.7814, 0.5298, 0.2474, 0.7373]]), tensor([[0.9559, 0.0689, 0.7054, 0.1167]]))\n"
     ]
    }
   ],
   "execution_count": 2
  },
  {
   "metadata": {
    "ExecuteTime": {
     "end_time": "2024-09-05T07:31:59.464775Z",
     "start_time": "2024-09-05T07:31:59.447408Z"
    }
   },
   "cell_type": "code",
   "source": [
    "import torch\n",
    "\n",
    "# torch.split\n",
    "a = torch.rand(3, 4)\n",
    "print(a)\n",
    "print(torch.split(a, 2, dim=0))"
   ],
   "id": "3af5ba29dacb8a8b",
   "outputs": [
    {
     "name": "stdout",
     "output_type": "stream",
     "text": [
      "tensor([[0.9821, 0.3493, 0.6284, 0.6343],\n",
      "        [0.3831, 0.2414, 0.4707, 0.7215],\n",
      "        [0.3138, 0.1989, 0.8583, 0.4333]])\n"
     ]
    },
    {
     "data": {
      "text/plain": [
       "(tensor([[0.9821, 0.3493, 0.6284, 0.6343],\n",
       "         [0.3831, 0.2414, 0.4707, 0.7215]]),\n",
       " tensor([[0.3138, 0.1989, 0.8583, 0.4333]]))"
      ]
     },
     "execution_count": 3,
     "metadata": {},
     "output_type": "execute_result"
    }
   ],
   "execution_count": 3
  },
  {
   "metadata": {},
   "cell_type": "code",
   "outputs": [],
   "execution_count": null,
   "source": "",
   "id": "37fabc05b2dbbf3a"
  }
 ],
 "metadata": {
  "kernelspec": {
   "display_name": "Python 3",
   "language": "python",
   "name": "python3"
  },
  "language_info": {
   "codemirror_mode": {
    "name": "ipython",
    "version": 2
   },
   "file_extension": ".py",
   "mimetype": "text/x-python",
   "name": "python",
   "nbconvert_exporter": "python",
   "pygments_lexer": "ipython2",
   "version": "2.7.6"
  }
 },
 "nbformat": 4,
 "nbformat_minor": 5
}
