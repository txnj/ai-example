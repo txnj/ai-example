{
 "cells": [
  {
   "cell_type": "code",
   "id": "initial_id",
   "metadata": {
    "collapsed": true,
    "ExecuteTime": {
     "end_time": "2024-09-04T09:22:06.324460Z",
     "start_time": "2024-09-04T09:22:06.313457Z"
    }
   },
   "source": [
    "from utils.image import read_image\n",
    "\n",
    "img_arr = read_image(\"../assets/images/o.jpg\")\n",
    "img_arr"
   ],
   "outputs": [
    {
     "name": "stdout",
     "output_type": "stream",
     "text": [
      "成功读取图片: ../assets/images/o.jpg\n",
      "图片尺寸: (512, 511, 3)\n"
     ]
    },
    {
     "data": {
      "text/plain": [
       "array([[[50, 50, 50],\n",
       "        [50, 50, 50],\n",
       "        [48, 48, 48],\n",
       "        ...,\n",
       "        [49, 49, 49],\n",
       "        [49, 49, 49],\n",
       "        [49, 49, 49]],\n",
       "\n",
       "       [[50, 50, 50],\n",
       "        [49, 49, 49],\n",
       "        [48, 48, 48],\n",
       "        ...,\n",
       "        [49, 49, 49],\n",
       "        [49, 49, 49],\n",
       "        [49, 49, 49]],\n",
       "\n",
       "       [[50, 50, 50],\n",
       "        [49, 49, 49],\n",
       "        [48, 48, 48],\n",
       "        ...,\n",
       "        [49, 49, 49],\n",
       "        [49, 49, 49],\n",
       "        [49, 49, 49]],\n",
       "\n",
       "       ...,\n",
       "\n",
       "       [[49, 49, 49],\n",
       "        [49, 49, 49],\n",
       "        [49, 49, 49],\n",
       "        ...,\n",
       "        [45, 45, 45],\n",
       "        [51, 51, 51],\n",
       "        [53, 53, 53]],\n",
       "\n",
       "       [[48, 48, 48],\n",
       "        [47, 47, 47],\n",
       "        [47, 47, 47],\n",
       "        ...,\n",
       "        [41, 41, 41],\n",
       "        [49, 49, 49],\n",
       "        [52, 52, 52]],\n",
       "\n",
       "       [[48, 48, 48],\n",
       "        [46, 46, 46],\n",
       "        [45, 45, 45],\n",
       "        ...,\n",
       "        [38, 38, 38],\n",
       "        [47, 47, 47],\n",
       "        [52, 52, 52]]], dtype=uint8)"
      ]
     },
     "execution_count": 5,
     "metadata": {},
     "output_type": "execute_result"
    }
   ],
   "execution_count": 5
  },
  {
   "metadata": {
    "ExecuteTime": {
     "end_time": "2024-09-04T09:24:31.702209Z",
     "start_time": "2024-09-04T09:24:31.693645Z"
    }
   },
   "cell_type": "code",
   "source": [
    "import torch\n",
    "\n",
    "img = torch.from_numpy(img_arr)\n",
    "out_img = img.permute(2, 0, 1)\n",
    "out_img.shape"
   ],
   "id": "7dbfcefd120bcbc9",
   "outputs": [
    {
     "data": {
      "text/plain": [
       "torch.Size([3, 512, 511])"
      ]
     },
     "execution_count": 7,
     "metadata": {},
     "output_type": "execute_result"
    }
   ],
   "execution_count": 7
  },
  {
   "metadata": {},
   "cell_type": "code",
   "outputs": [],
   "execution_count": null,
   "source": [
    "import os\n",
    "batch_size = 3\n",
    "batch = torch.zeros(batch_size, 3, 256, 256, dtype=torch.uint8)\n",
    "data_dir = \"../assets/images/random\"\n",
    "filenames = [name for name in os.listdir(data_dir) if os.path.splitext(name)[-1].lower() == \".jpeg\"]"
   ],
   "id": "702437deba4c3aa6"
  },
  {
   "metadata": {
    "ExecuteTime": {
     "end_time": "2024-09-04T09:37:55.334994Z",
     "start_time": "2024-09-04T09:37:55.330953Z"
    }
   },
   "cell_type": "code",
   "source": [
    "import os\n",
    "print(os.path.splitext(\"../assets/images/random/123.jpg\")[-1].lower())"
   ],
   "id": "e4b8710313fe99d8",
   "outputs": [
    {
     "name": "stdout",
     "output_type": "stream",
     "text": [
      ".jpg\n"
     ]
    }
   ],
   "execution_count": 10
  },
  {
   "metadata": {},
   "cell_type": "code",
   "outputs": [],
   "execution_count": null,
   "source": "",
   "id": "29b6d83d5535d49d"
  }
 ],
 "metadata": {
  "kernelspec": {
   "display_name": "Python 3",
   "language": "python",
   "name": "python3"
  },
  "language_info": {
   "codemirror_mode": {
    "name": "ipython",
    "version": 2
   },
   "file_extension": ".py",
   "mimetype": "text/x-python",
   "name": "python",
   "nbconvert_exporter": "python",
   "pygments_lexer": "ipython2",
   "version": "2.7.6"
  }
 },
 "nbformat": 4,
 "nbformat_minor": 5
}
