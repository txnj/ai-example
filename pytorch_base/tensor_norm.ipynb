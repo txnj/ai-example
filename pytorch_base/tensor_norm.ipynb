{
 "cells": [
  {
   "cell_type": "code",
   "id": "initial_id",
   "metadata": {
    "collapsed": true,
    "ExecuteTime": {
     "end_time": "2024-09-05T06:00:09.827024Z",
     "start_time": "2024-09-05T06:00:09.818060Z"
    }
   },
   "source": [
    "import torch\n",
    "\n",
    "a = torch.rand(1, 1)\n",
    "print(a)\n",
    "b = torch.rand(1, 1)\n",
    "print(b)\n",
    "print(torch.dist(a, b, p=1))\n",
    "print(torch.dist(a, b, p=2))\n",
    "print(torch.dist(a, b, p=3))\n",
    "print(torch.norm(a))\n",
    "print(torch.norm(a, p=1))\n",
    "print(torch.norm(a, p='fro'))"
   ],
   "outputs": [
    {
     "name": "stdout",
     "output_type": "stream",
     "text": [
      "tensor([[0.9047]])\n",
      "tensor([[0.4725]])\n",
      "tensor(0.4321)\n",
      "tensor(0.4321)\n",
      "tensor(0.4321)\n",
      "tensor(0.9047)\n",
      "tensor(0.9047)\n",
      "tensor(0.9047)\n"
     ]
    }
   ],
   "execution_count": 6
  },
  {
   "metadata": {},
   "cell_type": "code",
   "outputs": [],
   "execution_count": null,
   "source": "",
   "id": "a9b21b0d6be1eaf5"
  }
 ],
 "metadata": {
  "kernelspec": {
   "display_name": "Python 3",
   "language": "python",
   "name": "python3"
  },
  "language_info": {
   "codemirror_mode": {
    "name": "ipython",
    "version": 2
   },
   "file_extension": ".py",
   "mimetype": "text/x-python",
   "name": "python",
   "nbconvert_exporter": "python",
   "pygments_lexer": "ipython2",
   "version": "2.7.6"
  }
 },
 "nbformat": 4,
 "nbformat_minor": 5
}
