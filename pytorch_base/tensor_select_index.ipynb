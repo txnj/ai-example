{
 "cells": [
  {
   "cell_type": "code",
   "id": "initial_id",
   "metadata": {
    "collapsed": true,
    "ExecuteTime": {
     "end_time": "2024-09-05T06:40:29.768538Z",
     "start_time": "2024-09-05T06:40:29.752860Z"
    }
   },
   "source": [
    "import torch\n",
    "\n",
    "# torch.where\n",
    "a = torch.rand(4, 4) * 10\n",
    "b = torch.rand(4, 4) * 10\n",
    "print(a)\n",
    "print(b)\n",
    "out = torch.where(a > 5, a, b)\n",
    "print(\"-\" * 50)\n",
    "print(out)"
   ],
   "outputs": [
    {
     "name": "stdout",
     "output_type": "stream",
     "text": [
      "tensor([[9.6149, 6.8737, 2.0303, 8.9637],\n",
      "        [2.6799, 6.5534, 4.4579, 8.6899],\n",
      "        [0.5889, 7.6493, 9.9402, 6.9372],\n",
      "        [1.9605, 1.6705, 2.6085, 3.5094]])\n",
      "tensor([[3.0680, 4.9434, 6.5742, 1.6552],\n",
      "        [3.8050, 3.4469, 9.8070, 2.5287],\n",
      "        [7.4304, 2.7969, 0.0363, 6.9514],\n",
      "        [4.9474, 8.0637, 5.3759, 3.2700]])\n",
      "--------------------------------------------------\n",
      "tensor([[9.6149, 6.8737, 6.5742, 8.9637],\n",
      "        [3.8050, 6.5534, 9.8070, 8.6899],\n",
      "        [7.4304, 7.6493, 9.9402, 6.9372],\n",
      "        [4.9474, 8.0637, 5.3759, 3.2700]])\n"
     ]
    }
   ],
   "execution_count": 5
  },
  {
   "metadata": {
    "ExecuteTime": {
     "end_time": "2024-09-05T06:43:46.806999Z",
     "start_time": "2024-09-05T06:43:46.797526Z"
    }
   },
   "cell_type": "code",
   "source": [
    "import torch\n",
    "\n",
    "# torch.index_select\n",
    "a = torch.rand(4, 4) * 10\n",
    "print(a)\n",
    "print(\"-\" * 50)\n",
    "out = torch.index_select(a, dim=0, index=torch.tensor([0, 3, 2]))\n",
    "print(out)"
   ],
   "id": "1df432060dbda6c5",
   "outputs": [
    {
     "name": "stdout",
     "output_type": "stream",
     "text": [
      "tensor([[6.0149, 5.4959, 4.1879, 3.9598],\n",
      "        [3.5760, 6.7186, 1.8400, 7.5540],\n",
      "        [4.6503, 5.0687, 1.9633, 1.9361],\n",
      "        [5.8355, 1.0371, 2.2583, 4.4848]])\n",
      "--------------------------------------------------\n",
      "tensor([[6.0149, 5.4959, 4.1879, 3.9598],\n",
      "        [5.8355, 1.0371, 2.2583, 4.4848],\n",
      "        [4.6503, 5.0687, 1.9633, 1.9361]])\n"
     ]
    }
   ],
   "execution_count": 7
  },
  {
   "metadata": {
    "ExecuteTime": {
     "end_time": "2024-09-05T06:55:03.286930Z",
     "start_time": "2024-09-05T06:55:03.266502Z"
    }
   },
   "cell_type": "code",
   "source": [
    "import torch\n",
    "\n",
    "# torch.gather\n",
    "a = torch.linspace(1, 16, 16).view(4, 4)\n",
    "# a = torch.rand(4, 4) * 10\n",
    "print(a)\n",
    "torch.gather(a, dim=0, index=torch.tensor([\n",
    "    [0, 1, 1, 1],\n",
    "    [0, 1, 2, 2]\n",
    "]))\n"
   ],
   "id": "7d00a793d7dfbc9c",
   "outputs": [
    {
     "name": "stdout",
     "output_type": "stream",
     "text": [
      "tensor([[ 1.,  2.,  3.,  4.],\n",
      "        [ 5.,  6.,  7.,  8.],\n",
      "        [ 9., 10., 11., 12.],\n",
      "        [13., 14., 15., 16.]])\n"
     ]
    },
    {
     "data": {
      "text/plain": [
       "tensor([[ 1.,  6.,  7.,  8.],\n",
       "        [ 1.,  6., 11., 12.]])"
      ]
     },
     "execution_count": 19,
     "metadata": {},
     "output_type": "execute_result"
    }
   ],
   "execution_count": 19
  },
  {
   "metadata": {
    "ExecuteTime": {
     "end_time": "2024-09-05T06:59:53.458665Z",
     "start_time": "2024-09-05T06:59:53.444532Z"
    }
   },
   "cell_type": "code",
   "source": [
    "# torch.masked_select\n",
    "import torch\n",
    "\n",
    "a = torch.linspace(1, 16, 16).view(4, 4)\n",
    "mask = torch.gt(a, 8)\n",
    "print(a)\n",
    "print(mask)\n",
    "print(torch.masked_select(a, mask))"
   ],
   "id": "e9a5ad5de2dee20d",
   "outputs": [
    {
     "name": "stdout",
     "output_type": "stream",
     "text": [
      "tensor([[ 1.,  2.,  3.,  4.],\n",
      "        [ 5.,  6.,  7.,  8.],\n",
      "        [ 9., 10., 11., 12.],\n",
      "        [13., 14., 15., 16.]])\n",
      "tensor([[False, False, False, False],\n",
      "        [False, False, False, False],\n",
      "        [ True,  True,  True,  True],\n",
      "        [ True,  True,  True,  True]])\n",
      "tensor([ 9., 10., 11., 12., 13., 14., 15., 16.])\n"
     ]
    }
   ],
   "execution_count": 20
  },
  {
   "metadata": {
    "ExecuteTime": {
     "end_time": "2024-09-05T07:02:31.122817Z",
     "start_time": "2024-09-05T07:02:31.108833Z"
    }
   },
   "cell_type": "code",
   "source": [
    "import torch\n",
    "\n",
    "a = torch.linspace(1, 16, 16).view(4, 4)\n",
    "b = torch.take(a, index=torch.tensor([0, 15, 13, 10]))\n",
    "print(a)\n",
    "print(b)"
   ],
   "id": "815ca05876dcd6ae",
   "outputs": [
    {
     "name": "stdout",
     "output_type": "stream",
     "text": [
      "tensor([[ 1.,  2.,  3.,  4.],\n",
      "        [ 5.,  6.,  7.,  8.],\n",
      "        [ 9., 10., 11., 12.],\n",
      "        [13., 14., 15., 16.]])\n",
      "tensor([ 1., 16., 14., 11.])\n"
     ]
    }
   ],
   "execution_count": 23
  },
  {
   "metadata": {
    "ExecuteTime": {
     "end_time": "2024-09-05T07:04:08.976674Z",
     "start_time": "2024-09-05T07:04:08.873033Z"
    }
   },
   "cell_type": "code",
   "source": [
    "import torch\n",
    "a = torch.tensor([[0, 1, 2], [0, 1, 2]])\n",
    "print(a)\n",
    "print(torch.nonzero(a))"
   ],
   "id": "a6d91db79240e0a3",
   "outputs": [
    {
     "name": "stdout",
     "output_type": "stream",
     "text": [
      "tensor([[0, 1, 2],\n",
      "        [0, 1, 2]])\n",
      "tensor([[0, 1],\n",
      "        [0, 2],\n",
      "        [1, 1],\n",
      "        [1, 2]])\n"
     ]
    }
   ],
   "execution_count": 24
  },
  {
   "metadata": {},
   "cell_type": "code",
   "outputs": [],
   "execution_count": null,
   "source": "",
   "id": "cdc5b473987bd658"
  }
 ],
 "metadata": {
  "kernelspec": {
   "display_name": "Python 3",
   "language": "python",
   "name": "python3"
  },
  "language_info": {
   "codemirror_mode": {
    "name": "ipython",
    "version": 2
   },
   "file_extension": ".py",
   "mimetype": "text/x-python",
   "name": "python",
   "nbconvert_exporter": "python",
   "pygments_lexer": "ipython2",
   "version": "2.7.6"
  }
 },
 "nbformat": 4,
 "nbformat_minor": 5
}
