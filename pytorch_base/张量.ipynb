{
 "cells": [
  {
   "metadata": {
    "ExecuteTime": {
     "end_time": "2024-09-04T03:23:23.858452Z",
     "start_time": "2024-09-04T03:23:23.853326Z"
    }
   },
   "cell_type": "code",
   "source": "print(\"pytorch project\")",
   "id": "ec94d961b6aa390",
   "outputs": [
    {
     "name": "stdout",
     "output_type": "stream",
     "text": [
      "pytorch project\n"
     ]
    }
   ],
   "execution_count": 39
  },
  {
   "metadata": {
    "ExecuteTime": {
     "end_time": "2024-09-04T03:23:23.873547Z",
     "start_time": "2024-09-04T03:23:23.858959Z"
    }
   },
   "cell_type": "code",
   "source": [
    "\n",
    "a = [1, 2, 3, 4, 5]\n",
    "a"
   ],
   "id": "cd79c7941c6580bf",
   "outputs": [
    {
     "data": {
      "text/plain": [
       "[1, 2, 3, 4, 5]"
      ]
     },
     "execution_count": 40,
     "metadata": {},
     "output_type": "execute_result"
    }
   ],
   "execution_count": 40
  },
  {
   "metadata": {
    "ExecuteTime": {
     "end_time": "2024-09-04T03:23:23.888224Z",
     "start_time": "2024-09-04T03:23:23.875101Z"
    }
   },
   "cell_type": "code",
   "source": [
    "import torch\n",
    "\n",
    "b = torch.ones(3)\n",
    "b"
   ],
   "id": "6df5bb067860f894",
   "outputs": [
    {
     "data": {
      "text/plain": [
       "tensor([1., 1., 1.])"
      ]
     },
     "execution_count": 41,
     "metadata": {},
     "output_type": "execute_result"
    }
   ],
   "execution_count": 41
  },
  {
   "metadata": {
    "ExecuteTime": {
     "end_time": "2024-09-04T03:23:23.904022Z",
     "start_time": "2024-09-04T03:23:23.888939Z"
    }
   },
   "cell_type": "code",
   "source": [
    "c = torch.ones(3, 4)\n",
    "c"
   ],
   "id": "a0d747524637df66",
   "outputs": [
    {
     "data": {
      "text/plain": [
       "tensor([[1., 1., 1., 1.],\n",
       "        [1., 1., 1., 1.],\n",
       "        [1., 1., 1., 1.]])"
      ]
     },
     "execution_count": 42,
     "metadata": {},
     "output_type": "execute_result"
    }
   ],
   "execution_count": 42
  },
  {
   "metadata": {
    "ExecuteTime": {
     "end_time": "2024-09-04T03:23:23.919627Z",
     "start_time": "2024-09-04T03:23:23.905539Z"
    }
   },
   "cell_type": "code",
   "source": "b[1]",
   "id": "45cebeca512d0483",
   "outputs": [
    {
     "data": {
      "text/plain": [
       "tensor(1.)"
      ]
     },
     "execution_count": 43,
     "metadata": {},
     "output_type": "execute_result"
    }
   ],
   "execution_count": 43
  },
  {
   "metadata": {
    "ExecuteTime": {
     "end_time": "2024-09-04T03:23:23.935649Z",
     "start_time": "2024-09-04T03:23:23.920132Z"
    }
   },
   "cell_type": "code",
   "source": "float(b[1])",
   "id": "791635ba1a4c6f16",
   "outputs": [
    {
     "data": {
      "text/plain": [
       "1.0"
      ]
     },
     "execution_count": 44,
     "metadata": {},
     "output_type": "execute_result"
    }
   ],
   "execution_count": 44
  },
  {
   "metadata": {
    "ExecuteTime": {
     "end_time": "2024-09-04T03:23:23.951747Z",
     "start_time": "2024-09-04T03:23:23.936650Z"
    }
   },
   "cell_type": "code",
   "source": [
    "b[2] = 100\n",
    "b"
   ],
   "id": "1ac4675eabb96b",
   "outputs": [
    {
     "data": {
      "text/plain": [
       "tensor([  1.,   1., 100.])"
      ]
     },
     "execution_count": 45,
     "metadata": {},
     "output_type": "execute_result"
    }
   ],
   "execution_count": 45
  },
  {
   "metadata": {
    "ExecuteTime": {
     "end_time": "2024-09-04T03:23:23.967321Z",
     "start_time": "2024-09-04T03:23:23.952251Z"
    }
   },
   "cell_type": "code",
   "source": [
    "d = 1\n",
    "d1 = torch.tensor(d)\n",
    "d1"
   ],
   "id": "b1e0a35004d5285",
   "outputs": [
    {
     "data": {
      "text/plain": [
       "tensor(1)"
      ]
     },
     "execution_count": 46,
     "metadata": {},
     "output_type": "execute_result"
    }
   ],
   "execution_count": 46
  },
  {
   "metadata": {
    "ExecuteTime": {
     "end_time": "2024-09-04T03:23:23.982832Z",
     "start_time": "2024-09-04T03:23:23.967826Z"
    }
   },
   "cell_type": "code",
   "source": [
    "e = [1, 2, 3, 4, 5]\n",
    "e1 = torch.tensor(e)\n",
    "e"
   ],
   "id": "33274392f3143d25",
   "outputs": [
    {
     "data": {
      "text/plain": [
       "[1, 2, 3, 4, 5]"
      ]
     },
     "execution_count": 47,
     "metadata": {},
     "output_type": "execute_result"
    }
   ],
   "execution_count": 47
  },
  {
   "metadata": {
    "ExecuteTime": {
     "end_time": "2024-09-04T03:23:23.997874Z",
     "start_time": "2024-09-04T03:23:23.983831Z"
    }
   },
   "cell_type": "code",
   "source": [
    "import numpy as np\n",
    "\n",
    "# from_numpy\n",
    "arr = np.array([[1, 2, 3], [4, 5, 6], [7, 8, 9]])\n",
    "arr1 = torch.from_numpy(arr)\n",
    "print(arr1)\n",
    "arr[0][0] = 100\n",
    "print(arr)\n",
    "print(arr1)"
   ],
   "id": "c5c2d4f814f16c87",
   "outputs": [
    {
     "name": "stdout",
     "output_type": "stream",
     "text": [
      "tensor([[1, 2, 3],\n",
      "        [4, 5, 6],\n",
      "        [7, 8, 9]], dtype=torch.int32)\n",
      "[[100   2   3]\n",
      " [  4   5   6]\n",
      " [  7   8   9]]\n",
      "tensor([[100,   2,   3],\n",
      "        [  4,   5,   6],\n",
      "        [  7,   8,   9]], dtype=torch.int32)\n"
     ]
    }
   ],
   "execution_count": 48
  },
  {
   "metadata": {
    "ExecuteTime": {
     "end_time": "2024-09-04T03:23:24.013480Z",
     "start_time": "2024-09-04T03:23:23.999389Z"
    }
   },
   "cell_type": "code",
   "source": [
    "f = torch.zeros(3, 3)\n",
    "f"
   ],
   "id": "48c20c24a5e1b457",
   "outputs": [
    {
     "data": {
      "text/plain": [
       "tensor([[0., 0., 0.],\n",
       "        [0., 0., 0.],\n",
       "        [0., 0., 0.]])"
      ]
     },
     "execution_count": 49,
     "metadata": {},
     "output_type": "execute_result"
    }
   ],
   "execution_count": 49
  },
  {
   "metadata": {
    "ExecuteTime": {
     "end_time": "2024-09-04T03:23:24.029076Z",
     "start_time": "2024-09-04T03:23:24.013985Z"
    }
   },
   "cell_type": "code",
   "source": [
    "f[0][0] = 100\n",
    "f[1][1] = 100\n",
    "f[2][2] = 100\n",
    "f"
   ],
   "id": "8b04fec4b777a873",
   "outputs": [
    {
     "data": {
      "text/plain": [
       "tensor([[100.,   0.,   0.],\n",
       "        [  0., 100.,   0.],\n",
       "        [  0.,   0., 100.]])"
      ]
     },
     "execution_count": 50,
     "metadata": {},
     "output_type": "execute_result"
    }
   ],
   "execution_count": 50
  },
  {
   "metadata": {
    "ExecuteTime": {
     "end_time": "2024-09-04T03:23:24.043920Z",
     "start_time": "2024-09-04T03:23:24.029580Z"
    }
   },
   "cell_type": "code",
   "source": [
    "f1 = torch.zeros_like(f)\n",
    "f1"
   ],
   "id": "1bd2b464fc844eaa",
   "outputs": [
    {
     "data": {
      "text/plain": [
       "tensor([[0., 0., 0.],\n",
       "        [0., 0., 0.],\n",
       "        [0., 0., 0.]])"
      ]
     },
     "execution_count": 51,
     "metadata": {},
     "output_type": "execute_result"
    }
   ],
   "execution_count": 51
  },
  {
   "metadata": {
    "ExecuteTime": {
     "end_time": "2024-09-04T03:23:24.058993Z",
     "start_time": "2024-09-04T03:23:24.044927Z"
    }
   },
   "cell_type": "code",
   "source": [
    "aa = torch.ones(5, 5)\n",
    "aa"
   ],
   "id": "8eb8c90c499f9dc2",
   "outputs": [
    {
     "data": {
      "text/plain": [
       "tensor([[1., 1., 1., 1., 1.],\n",
       "        [1., 1., 1., 1., 1.],\n",
       "        [1., 1., 1., 1., 1.],\n",
       "        [1., 1., 1., 1., 1.],\n",
       "        [1., 1., 1., 1., 1.]])"
      ]
     },
     "execution_count": 52,
     "metadata": {},
     "output_type": "execute_result"
    }
   ],
   "execution_count": 52
  },
  {
   "metadata": {
    "ExecuteTime": {
     "end_time": "2024-09-04T03:23:24.074633Z",
     "start_time": "2024-09-04T03:23:24.059500Z"
    }
   },
   "cell_type": "code",
   "source": [
    "bb = torch.full([2, 3], 5)\n",
    "bb"
   ],
   "id": "4b6f7596ac61a5c3",
   "outputs": [
    {
     "data": {
      "text/plain": [
       "tensor([[5, 5, 5],\n",
       "        [5, 5, 5]])"
      ]
     },
     "execution_count": 53,
     "metadata": {},
     "output_type": "execute_result"
    }
   ],
   "execution_count": 53
  },
  {
   "metadata": {
    "ExecuteTime": {
     "end_time": "2024-09-04T03:23:24.105217Z",
     "start_time": "2024-09-04T03:23:24.075141Z"
    }
   },
   "cell_type": "code",
   "source": [
    "p = torch.full([3, 4], 6)\n",
    "print(p)\n",
    "torch.save(p, \"../data/p.t\")"
   ],
   "id": "f75bfe0135850e2d",
   "outputs": [
    {
     "name": "stdout",
     "output_type": "stream",
     "text": [
      "tensor([[6, 6, 6, 6],\n",
      "        [6, 6, 6, 6],\n",
      "        [6, 6, 6, 6]])\n"
     ]
    }
   ],
   "execution_count": 54
  },
  {
   "metadata": {
    "ExecuteTime": {
     "end_time": "2024-09-04T03:23:24.120259Z",
     "start_time": "2024-09-04T03:23:24.106735Z"
    }
   },
   "cell_type": "code",
   "source": [
    "load_p = torch.load(\"../data/p.t\", weights_only=True)\n",
    "print(load_p)"
   ],
   "id": "b806b706540c56a5",
   "outputs": [
    {
     "name": "stdout",
     "output_type": "stream",
     "text": [
      "tensor([[6, 6, 6, 6],\n",
      "        [6, 6, 6, 6],\n",
      "        [6, 6, 6, 6]])\n"
     ]
    }
   ],
   "execution_count": 55
  },
  {
   "metadata": {
    "ExecuteTime": {
     "end_time": "2024-09-04T03:23:24.136283Z",
     "start_time": "2024-09-04T03:23:24.120766Z"
    }
   },
   "cell_type": "code",
   "source": [
    "# 张量连接\n",
    "a = torch.ones(4, 5)\n",
    "print(a)\n",
    "cat_a = torch.cat([a, a], dim=0)\n",
    "print(cat_a)\n",
    "cat_a1 = torch.cat([a, a], dim=1)\n",
    "cat_a1"
   ],
   "id": "ff85f6c98d153f70",
   "outputs": [
    {
     "name": "stdout",
     "output_type": "stream",
     "text": [
      "tensor([[1., 1., 1., 1., 1.],\n",
      "        [1., 1., 1., 1., 1.],\n",
      "        [1., 1., 1., 1., 1.],\n",
      "        [1., 1., 1., 1., 1.]])\n",
      "tensor([[1., 1., 1., 1., 1.],\n",
      "        [1., 1., 1., 1., 1.],\n",
      "        [1., 1., 1., 1., 1.],\n",
      "        [1., 1., 1., 1., 1.],\n",
      "        [1., 1., 1., 1., 1.],\n",
      "        [1., 1., 1., 1., 1.],\n",
      "        [1., 1., 1., 1., 1.],\n",
      "        [1., 1., 1., 1., 1.]])\n"
     ]
    },
    {
     "data": {
      "text/plain": [
       "tensor([[1., 1., 1., 1., 1., 1., 1., 1., 1., 1.],\n",
       "        [1., 1., 1., 1., 1., 1., 1., 1., 1., 1.],\n",
       "        [1., 1., 1., 1., 1., 1., 1., 1., 1., 1.],\n",
       "        [1., 1., 1., 1., 1., 1., 1., 1., 1., 1.]])"
      ]
     },
     "execution_count": 56,
     "metadata": {},
     "output_type": "execute_result"
    }
   ],
   "execution_count": 56
  },
  {
   "metadata": {
    "ExecuteTime": {
     "end_time": "2024-09-04T03:23:30.647546Z",
     "start_time": "2024-09-04T03:23:30.632329Z"
    }
   },
   "cell_type": "code",
   "source": [
    "a = torch.normal(0, 1, [2, 3])\n",
    "b = torch.normal(0, 1, [2, 3])\n",
    "print(a)\n",
    "print(b)\n",
    "stack_a = torch.stack([a, b], dim=0)\n",
    "print(stack_a)\n",
    "stack_b = torch.stack([a, b], dim=1)\n",
    "print(stack_b)"
   ],
   "id": "303ae735aa6b3dae",
   "outputs": [
    {
     "name": "stdout",
     "output_type": "stream",
     "text": [
      "tensor([[-1.5279,  1.5047, -1.7945],\n",
      "        [ 0.2703,  0.9163,  0.0464]])\n",
      "tensor([[ 1.5929, -2.1055,  2.0120],\n",
      "        [-0.9074, -1.4678, -0.7094]])\n",
      "tensor([[[-1.5279,  1.5047, -1.7945],\n",
      "         [ 0.2703,  0.9163,  0.0464]],\n",
      "\n",
      "        [[ 1.5929, -2.1055,  2.0120],\n",
      "         [-0.9074, -1.4678, -0.7094]]])\n",
      "tensor([[[-1.5279,  1.5047, -1.7945],\n",
      "         [ 1.5929, -2.1055,  2.0120]],\n",
      "\n",
      "        [[ 0.2703,  0.9163,  0.0464],\n",
      "         [-0.9074, -1.4678, -0.7094]]])\n"
     ]
    }
   ],
   "execution_count": 58
  },
  {
   "metadata": {
    "ExecuteTime": {
     "end_time": "2024-09-04T03:51:53.800308Z",
     "start_time": "2024-09-04T03:51:53.784507Z"
    }
   },
   "cell_type": "code",
   "source": [
    "import sys\n",
    "\n",
    "print(sys.float_info)"
   ],
   "id": "546b5390d3998bce",
   "outputs": [
    {
     "name": "stdout",
     "output_type": "stream",
     "text": [
      "sys.float_info(max=1.7976931348623157e+308, max_exp=1024, max_10_exp=308, min=2.2250738585072014e-308, min_exp=-1021, min_10_exp=-307, dig=15, mant_dig=53, epsilon=2.220446049250313e-16, radix=2, rounds=1)\n"
     ]
    }
   ],
   "execution_count": 59
  },
  {
   "metadata": {},
   "cell_type": "code",
   "outputs": [],
   "execution_count": null,
   "source": "",
   "id": "64e3b5d7d3f29cf9"
  }
 ],
 "metadata": {
  "kernelspec": {
   "display_name": "Python 3",
   "language": "python",
   "name": "python3"
  },
  "language_info": {
   "codemirror_mode": {
    "name": "ipython",
    "version": 2
   },
   "file_extension": ".py",
   "mimetype": "text/x-python",
   "name": "python",
   "nbconvert_exporter": "python",
   "pygments_lexer": "ipython2",
   "version": "2.7.6"
  }
 },
 "nbformat": 4,
 "nbformat_minor": 5
}
