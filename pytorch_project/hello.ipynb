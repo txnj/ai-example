{
 "cells": [
  {
   "cell_type": "code",
   "id": "initial_id",
   "metadata": {
    "collapsed": true,
    "ExecuteTime": {
     "end_time": "2024-09-05T14:52:49.762226Z",
     "start_time": "2024-09-05T14:52:48.231832Z"
    }
   },
   "source": [
    "import torch\n",
    "\n",
    "torch.__version__"
   ],
   "outputs": [
    {
     "data": {
      "text/plain": [
       "'2.4.1+cu118'"
      ]
     },
     "execution_count": 1,
     "metadata": {},
     "output_type": "execute_result"
    }
   ],
   "execution_count": 1
  },
  {
   "metadata": {
    "ExecuteTime": {
     "end_time": "2024-09-05T14:57:07.449920Z",
     "start_time": "2024-09-05T14:57:07.442787Z"
    }
   },
   "cell_type": "code",
   "source": [
    "# 张量\n",
    "a = torch.empty(5, 3)\n",
    "print(a)\n",
    "print(a.size())\n",
    "print(a.shape)"
   ],
   "id": "7f3ba9ada5b76bda",
   "outputs": [
    {
     "name": "stdout",
     "output_type": "stream",
     "text": [
      "tensor([[-1.1290e-36,  1.1869e-42,  0.0000e+00],\n",
      "        [ 0.0000e+00,  0.0000e+00,  0.0000e+00],\n",
      "        [ 0.0000e+00,  0.0000e+00,  0.0000e+00],\n",
      "        [ 0.0000e+00,  0.0000e+00,  0.0000e+00],\n",
      "        [ 0.0000e+00,  0.0000e+00,  0.0000e+00]])\n",
      "torch.Size([5, 3])\n",
      "torch.Size([5, 3])\n"
     ]
    }
   ],
   "execution_count": 4
  },
  {
   "metadata": {
    "ExecuteTime": {
     "end_time": "2024-09-05T14:59:56.661364Z",
     "start_time": "2024-09-05T14:59:56.647184Z"
    }
   },
   "cell_type": "code",
   "source": [
    "# view\n",
    "a = torch.randn(4, 4)\n",
    "print(a)\n",
    "b = a.view(16)\n",
    "print(b)\n",
    "c = a.view(-1, 8)  # -1 的意思是自动计算,第二个维度8个元素,第一个维度自动计算就是2个元素\n",
    "print(c.shape)"
   ],
   "id": "e9b05ab3016b15c6",
   "outputs": [
    {
     "name": "stdout",
     "output_type": "stream",
     "text": [
      "tensor([[ 0.4736,  0.1792, -1.0481, -0.7203],\n",
      "        [-1.7142, -0.5367, -0.6740, -0.3215],\n",
      "        [ 1.1932, -0.4617, -0.8050, -1.4000],\n",
      "        [ 0.0288,  1.4166, -0.5263,  0.9754]])\n",
      "tensor([ 0.4736,  0.1792, -1.0481, -0.7203, -1.7142, -0.5367, -0.6740, -0.3215,\n",
      "         1.1932, -0.4617, -0.8050, -1.4000,  0.0288,  1.4166, -0.5263,  0.9754])\n",
      "tensor([[ 0.4736,  0.1792, -1.0481, -0.7203, -1.7142, -0.5367, -0.6740, -0.3215],\n",
      "        [ 1.1932, -0.4617, -0.8050, -1.4000,  0.0288,  1.4166, -0.5263,  0.9754]])\n",
      "torch.Size([2, 8])\n"
     ]
    }
   ],
   "execution_count": 8
  },
  {
   "metadata": {
    "ExecuteTime": {
     "end_time": "2024-09-05T15:04:00.075242Z",
     "start_time": "2024-09-05T15:04:00.067924Z"
    }
   },
   "cell_type": "code",
   "source": [
    "a = torch.ones(5)\n",
    "b = a.numpy()\n",
    "print(b)\n",
    "print(type(b))"
   ],
   "id": "47484034264bcb41",
   "outputs": [
    {
     "name": "stdout",
     "output_type": "stream",
     "text": [
      "[1. 1. 1. 1. 1.]\n",
      "<class 'numpy.ndarray'>\n"
     ]
    }
   ],
   "execution_count": 18
  },
  {
   "metadata": {
    "ExecuteTime": {
     "end_time": "2024-09-05T15:04:50.380086Z",
     "start_time": "2024-09-05T15:04:50.367384Z"
    }
   },
   "cell_type": "code",
   "source": [
    "import numpy as np\n",
    "a = np.ones((5, 5))\n",
    "b = torch.from_numpy(a)\n",
    "print(b)\n",
    "print(b.shape)"
   ],
   "id": "b9665f0fe3d0643c",
   "outputs": [
    {
     "name": "stdout",
     "output_type": "stream",
     "text": [
      "tensor([[1., 1., 1., 1., 1.],\n",
      "        [1., 1., 1., 1., 1.],\n",
      "        [1., 1., 1., 1., 1.],\n",
      "        [1., 1., 1., 1., 1.],\n",
      "        [1., 1., 1., 1., 1.]], dtype=torch.float64)\n",
      "torch.Size([5, 5])\n"
     ]
    }
   ],
   "execution_count": 19
  },
  {
   "metadata": {},
   "cell_type": "code",
   "outputs": [],
   "execution_count": null,
   "source": "",
   "id": "c156e9f32eb08d44"
  }
 ],
 "metadata": {
  "kernelspec": {
   "display_name": "Python 3",
   "language": "python",
   "name": "python3"
  },
  "language_info": {
   "codemirror_mode": {
    "name": "ipython",
    "version": 2
   },
   "file_extension": ".py",
   "mimetype": "text/x-python",
   "name": "python",
   "nbconvert_exporter": "python",
   "pygments_lexer": "ipython2",
   "version": "2.7.6"
  }
 },
 "nbformat": 4,
 "nbformat_minor": 5
}
