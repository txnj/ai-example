{
 "cells": [
  {
   "cell_type": "code",
   "id": "initial_id",
   "metadata": {
    "collapsed": true,
    "ExecuteTime": {
     "end_time": "2024-09-06T02:10:51.403963Z",
     "start_time": "2024-09-06T02:10:50.118912Z"
    }
   },
   "source": [
    "import torch\n",
    "\n",
    "torch.__version__"
   ],
   "outputs": [
    {
     "data": {
      "text/plain": [
       "'2.4.1+cu118'"
      ]
     },
     "execution_count": 2,
     "metadata": {},
     "output_type": "execute_result"
    }
   ],
   "execution_count": 2
  },
  {
   "cell_type": "code",
   "id": "7f3ba9ada5b76bda",
   "metadata": {
    "ExecuteTime": {
     "end_time": "2024-09-06T02:10:54.022188Z",
     "start_time": "2024-09-06T02:10:54.016786Z"
    }
   },
   "source": [
    "# 张量\n",
    "a = torch.empty(5, 3)\n",
    "print(a)\n",
    "print(a.size())\n",
    "print(a.shape)"
   ],
   "outputs": [
    {
     "name": "stdout",
     "output_type": "stream",
     "text": [
      "tensor([[1.9668e+05, 1.1266e-42, 0.0000e+00],\n",
      "        [0.0000e+00, 0.0000e+00, 0.0000e+00],\n",
      "        [0.0000e+00, 0.0000e+00, 0.0000e+00],\n",
      "        [0.0000e+00, 0.0000e+00, 0.0000e+00],\n",
      "        [0.0000e+00, 0.0000e+00, 0.0000e+00]])\n",
      "torch.Size([5, 3])\n",
      "torch.Size([5, 3])\n"
     ]
    }
   ],
   "execution_count": 3
  },
  {
   "cell_type": "code",
   "execution_count": 8,
   "id": "e9b05ab3016b15c6",
   "metadata": {
    "ExecuteTime": {
     "end_time": "2024-09-05T14:59:56.661364Z",
     "start_time": "2024-09-05T14:59:56.647184Z"
    }
   },
   "outputs": [
    {
     "name": "stdout",
     "output_type": "stream",
     "text": [
      "tensor([[ 0.4736,  0.1792, -1.0481, -0.7203],\n",
      "        [-1.7142, -0.5367, -0.6740, -0.3215],\n",
      "        [ 1.1932, -0.4617, -0.8050, -1.4000],\n",
      "        [ 0.0288,  1.4166, -0.5263,  0.9754]])\n",
      "tensor([ 0.4736,  0.1792, -1.0481, -0.7203, -1.7142, -0.5367, -0.6740, -0.3215,\n",
      "         1.1932, -0.4617, -0.8050, -1.4000,  0.0288,  1.4166, -0.5263,  0.9754])\n",
      "tensor([[ 0.4736,  0.1792, -1.0481, -0.7203, -1.7142, -0.5367, -0.6740, -0.3215],\n",
      "        [ 1.1932, -0.4617, -0.8050, -1.4000,  0.0288,  1.4166, -0.5263,  0.9754]])\n",
      "torch.Size([2, 8])\n"
     ]
    }
   ],
   "source": [
    "# view\n",
    "a = torch.randn(4, 4)\n",
    "print(a)\n",
    "b = a.view(16)\n",
    "print(b)\n",
    "c = a.view(-1, 8)  # -1 的意思是自动计算,第二个维度8个元素,第一个维度自动计算就是2个元素\n",
    "print(c.shape)"
   ]
  },
  {
   "cell_type": "code",
   "execution_count": 18,
   "id": "47484034264bcb41",
   "metadata": {
    "ExecuteTime": {
     "end_time": "2024-09-05T15:04:00.075242Z",
     "start_time": "2024-09-05T15:04:00.067924Z"
    }
   },
   "outputs": [
    {
     "name": "stdout",
     "output_type": "stream",
     "text": [
      "[1. 1. 1. 1. 1.]\n",
      "<class 'numpy.ndarray'>\n"
     ]
    }
   ],
   "source": [
    "a = torch.ones(5)\n",
    "b = a.numpy()\n",
    "print(b)\n",
    "print(type(b))"
   ]
  },
  {
   "cell_type": "code",
   "execution_count": 19,
   "id": "b9665f0fe3d0643c",
   "metadata": {
    "ExecuteTime": {
     "end_time": "2024-09-05T15:04:50.380086Z",
     "start_time": "2024-09-05T15:04:50.367384Z"
    }
   },
   "outputs": [
    {
     "name": "stdout",
     "output_type": "stream",
     "text": [
      "tensor([[1., 1., 1., 1., 1.],\n",
      "        [1., 1., 1., 1., 1.],\n",
      "        [1., 1., 1., 1., 1.],\n",
      "        [1., 1., 1., 1., 1.],\n",
      "        [1., 1., 1., 1., 1.]], dtype=torch.float64)\n",
      "torch.Size([5, 5])\n"
     ]
    }
   ],
   "source": [
    "import numpy as np\n",
    "a = np.ones((5, 5))\n",
    "b = torch.from_numpy(a)\n",
    "print(b)\n",
    "print(b.shape)"
   ]
  },
  {
   "cell_type": "code",
   "execution_count": null,
   "id": "c156e9f32eb08d44",
   "metadata": {},
   "outputs": [],
   "source": []
  }
 ],
 "metadata": {
  "kernelspec": {
   "display_name": "Python 3",
   "language": "python",
   "name": "python3"
  },
  "language_info": {
   "codemirror_mode": {
    "name": "ipython",
    "version": 3
   },
   "file_extension": ".py",
   "mimetype": "text/x-python",
   "name": "python",
   "nbconvert_exporter": "python",
   "pygments_lexer": "ipython3",
   "version": "3.10.14"
  }
 },
 "nbformat": 4,
 "nbformat_minor": 5
}
