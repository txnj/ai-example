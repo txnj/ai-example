{
 "cells": [
  {
   "cell_type": "code",
   "id": "initial_id",
   "metadata": {
    "collapsed": true,
    "ExecuteTime": {
     "end_time": "2024-09-05T06:33:40.923018Z",
     "start_time": "2024-09-05T06:33:40.906994Z"
    }
   },
   "source": [
    "import torch\n",
    "# 裁剪\n",
    "a = torch.rand(2, 2) * 10\n",
    "print(a)\n",
    "a.clamp(2, 5)"
   ],
   "outputs": [
    {
     "name": "stdout",
     "output_type": "stream",
     "text": [
      "tensor([[0.9147, 9.8512],\n",
      "        [0.2289, 4.9364]])\n"
     ]
    },
    {
     "data": {
      "text/plain": [
       "tensor([[2.0000, 5.0000],\n",
       "        [2.0000, 4.9364]])"
      ]
     },
     "execution_count": 6,
     "metadata": {},
     "output_type": "execute_result"
    }
   ],
   "execution_count": 6
  },
  {
   "metadata": {},
   "cell_type": "code",
   "outputs": [],
   "execution_count": null,
   "source": "",
   "id": "13edae97824366a1"
  }
 ],
 "metadata": {
  "kernelspec": {
   "display_name": "Python 3",
   "language": "python",
   "name": "python3"
  },
  "language_info": {
   "codemirror_mode": {
    "name": "ipython",
    "version": 2
   },
   "file_extension": ".py",
   "mimetype": "text/x-python",
   "name": "python",
   "nbconvert_exporter": "python",
   "pygments_lexer": "ipython2",
   "version": "2.7.6"
  }
 },
 "nbformat": 4,
 "nbformat_minor": 5
}
