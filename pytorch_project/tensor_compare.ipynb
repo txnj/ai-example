{
 "cells": [
  {
   "cell_type": "code",
   "id": "initial_id",
   "metadata": {
    "collapsed": true,
    "ExecuteTime": {
     "end_time": "2024-09-05T02:53:02.622125Z",
     "start_time": "2024-09-05T02:53:02.595646Z"
    }
   },
   "source": [
    "import torch\n",
    "\n",
    "a = torch.rand(2, 3)\n",
    "b = torch.rand(2, 3)\n",
    "print(a)\n",
    "print(b)\n",
    "print(torch.equal(a, b))\n",
    "print(torch.eq(a, b))\n",
    "print(torch.gt(a, b))\n",
    "print(torch.lt(a, b))"
   ],
   "outputs": [
    {
     "name": "stdout",
     "output_type": "stream",
     "text": [
      "tensor([[0.6122, 0.7863, 0.9516],\n",
      "        [0.2120, 0.5645, 0.2795]])\n",
      "tensor([[0.2272, 0.4779, 0.3973],\n",
      "        [0.2423, 0.0147, 0.5228]])\n",
      "False\n",
      "tensor([[False, False, False],\n",
      "        [False, False, False]])\n",
      "tensor([[ True,  True,  True],\n",
      "        [False,  True, False]])\n",
      "tensor([[False, False, False],\n",
      "        [ True, False,  True]])\n"
     ]
    }
   ],
   "execution_count": 5
  },
  {
   "metadata": {
    "ExecuteTime": {
     "end_time": "2024-09-05T03:09:03.583327Z",
     "start_time": "2024-09-05T03:09:03.577399Z"
    }
   },
   "cell_type": "code",
   "source": [
    "# 排序\n",
    "a = torch.tensor([[0, 1, 2, 3, 4, 5, 6, 7, 8, 9], [9, 8, 7, 6, 5, 4, 3, 2, 1, 0]])\n",
    "torch.sort(a, dim=0, descending=True)"
   ],
   "id": "465b6c06fa8357f0",
   "outputs": [
    {
     "data": {
      "text/plain": [
       "torch.return_types.sort(\n",
       "values=tensor([[9, 8, 7, 6, 5, 5, 6, 7, 8, 9],\n",
       "        [0, 1, 2, 3, 4, 4, 3, 2, 1, 0]]),\n",
       "indices=tensor([[1, 1, 1, 1, 1, 0, 0, 0, 0, 0],\n",
       "        [0, 0, 0, 0, 0, 1, 1, 1, 1, 1]]))"
      ]
     },
     "execution_count": 15,
     "metadata": {},
     "output_type": "execute_result"
    }
   ],
   "execution_count": 15
  },
  {
   "metadata": {
    "ExecuteTime": {
     "end_time": "2024-09-05T03:19:15.386440Z",
     "start_time": "2024-09-05T03:19:15.376871Z"
    }
   },
   "cell_type": "code",
   "source": [
    "# topk 取最大值\n",
    "# kthvalue 取最小值\n",
    "a = torch.rand(3, 4)\n",
    "print(a)\n",
    "print(torch.topk(a, k=1, dim=0))\n",
    "print(torch.kthvalue(a, k=2, dim=0))"
   ],
   "id": "874c273f95b603d8",
   "outputs": [
    {
     "name": "stdout",
     "output_type": "stream",
     "text": [
      "tensor([[0.1913, 0.4765, 0.0092, 0.9818],\n",
      "        [0.1928, 0.3119, 0.2839, 0.3276],\n",
      "        [0.8315, 0.9723, 0.6694, 0.9426]])\n",
      "torch.return_types.topk(\n",
      "values=tensor([[0.8315, 0.9723, 0.6694, 0.9818]]),\n",
      "indices=tensor([[2, 2, 2, 0]]))\n",
      "torch.return_types.kthvalue(\n",
      "values=tensor([0.1928, 0.4765, 0.2839, 0.9426]),\n",
      "indices=tensor([1, 0, 1, 2]))\n"
     ]
    }
   ],
   "execution_count": 22
  },
  {
   "metadata": {
    "ExecuteTime": {
     "end_time": "2024-09-05T03:23:24.420548Z",
     "start_time": "2024-09-05T03:23:24.381178Z"
    }
   },
   "cell_type": "code",
   "source": [
    "a = torch.rand(3, 4)\n",
    "print(a)\n",
    "print(torch.isfinite(a))  #判断是否有界\n",
    "print(torch.isinf(a / 0))\n",
    "print(torch.isnan(a / 0))  # 判断是否为NAN"
   ],
   "id": "2ef3107c5c53d4d5",
   "outputs": [
    {
     "name": "stdout",
     "output_type": "stream",
     "text": [
      "tensor([[0.5016, 0.5443, 0.6732, 0.1364],\n",
      "        [0.4375, 0.4487, 0.5329, 0.2881],\n",
      "        [0.3376, 0.2370, 0.7427, 0.3528]])\n",
      "tensor([[True, True, True, True],\n",
      "        [True, True, True, True],\n",
      "        [True, True, True, True]])\n",
      "tensor([[True, True, True, True],\n",
      "        [True, True, True, True],\n",
      "        [True, True, True, True]])\n",
      "tensor([[False, False, False, False],\n",
      "        [False, False, False, False],\n",
      "        [False, False, False, False]])\n"
     ]
    }
   ],
   "execution_count": 26
  },
  {
   "metadata": {},
   "cell_type": "code",
   "outputs": [],
   "execution_count": null,
   "source": "",
   "id": "71db1bd98dcda7cb"
  }
 ],
 "metadata": {
  "kernelspec": {
   "display_name": "Python 3",
   "language": "python",
   "name": "python3"
  },
  "language_info": {
   "codemirror_mode": {
    "name": "ipython",
    "version": 2
   },
   "file_extension": ".py",
   "mimetype": "text/x-python",
   "name": "python",
   "nbconvert_exporter": "python",
   "pygments_lexer": "ipython2",
   "version": "2.7.6"
  }
 },
 "nbformat": 4,
 "nbformat_minor": 5
}
