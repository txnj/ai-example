{
 "cells": [
  {
   "cell_type": "markdown",
   "id": "d1ea905ea441af39",
   "metadata": {},
   "source": [
    "# Tensor常见的形式有哪些\n",
    "- 0: scalar 数值\n",
    "- 1: vector 向量\n",
    "- 2: matrix 矩阵\n",
    "- 3: n-dimensional tensor 高维"
   ]
  },
  {
   "cell_type": "code",
   "id": "107a1bb4ea2cbd89",
   "metadata": {
    "ExecuteTime": {
     "end_time": "2024-09-06T02:29:27.515330Z",
     "start_time": "2024-09-06T02:29:27.504242Z"
    }
   },
   "source": [
    "import torch\n",
    "from torch import tensor\n",
    "torch.__version__"
   ],
   "outputs": [
    {
     "data": {
      "text/plain": [
       "'2.4.1+cu118'"
      ]
     },
     "execution_count": 9,
     "metadata": {},
     "output_type": "execute_result"
    }
   ],
   "execution_count": 9
  },
  {
   "metadata": {},
   "cell_type": "markdown",
   "source": "## Scalar 数值",
   "id": "e8d5004745f31a16"
  },
  {
   "cell_type": "code",
   "id": "f2f8be11684ee4b4",
   "metadata": {
    "ExecuteTime": {
     "end_time": "2024-09-06T02:12:53.820505Z",
     "start_time": "2024-09-06T02:12:53.807402Z"
    }
   },
   "source": [
    "x = tensor(42.)  # scalar 数值\n",
    "print(x)\n",
    "print(f\"维度: {x.dim()}\")\n",
    "print(f\"x2: {x * 2}\")\n",
    "print(f\"item: {x.item()}\")"
   ],
   "outputs": [
    {
     "name": "stdout",
     "output_type": "stream",
     "text": [
      "tensor(42.)\n",
      "维度: 0\n",
      "x2: 84.0\n",
      "item: 42.0\n"
     ]
    }
   ],
   "execution_count": 2
  },
  {
   "metadata": {},
   "cell_type": "markdown",
   "source": "## Vector 向量",
   "id": "e8550c93b2528b8c"
  },
  {
   "cell_type": "code",
   "id": "4ba55acf9f6452d9",
   "metadata": {
    "ExecuteTime": {
     "end_time": "2024-09-06T02:17:33.879098Z",
     "start_time": "2024-09-06T02:17:33.865272Z"
    }
   },
   "source": [
    "v = tensor([1, 2, 3])\n",
    "print(v)\n",
    "print(f\"维度: {v.dim()}\")\n",
    "print(f\"size: {v.size()}\")"
   ],
   "outputs": [
    {
     "name": "stdout",
     "output_type": "stream",
     "text": [
      "tensor([1, 2, 3])\n",
      "维度: 1\n",
      "size: torch.Size([3])\n"
     ]
    }
   ],
   "execution_count": 4
  },
  {
   "metadata": {},
   "cell_type": "markdown",
   "source": "## Matrix 矩阵",
   "id": "55124c5bb0f4a7d2"
  },
  {
   "metadata": {
    "ExecuteTime": {
     "end_time": "2024-09-06T02:25:59.088396Z",
     "start_time": "2024-09-06T02:25:59.075726Z"
    }
   },
   "cell_type": "code",
   "source": [
    "m = tensor([[1, 2], [3, 4]])\n",
    "print(m)\n",
    "print(f\"维度: {m.dim()}\")\n",
    "print(f\"size: {m.size()}\")\n",
    "print(m.matmul(m)) # 矩阵相乘\n",
    "print(tensor([1,0]).matmul(m))\n",
    "print(tensor([1,2]).matmul(m))"
   ],
   "id": "19464603621a792a",
   "outputs": [
    {
     "name": "stdout",
     "output_type": "stream",
     "text": [
      "tensor([[1, 2],\n",
      "        [3, 4]])\n",
      "维度: 2\n",
      "size: torch.Size([2, 2])\n",
      "tensor([[ 7, 10],\n",
      "        [15, 22]])\n",
      "tensor([1, 2])\n",
      "tensor([ 7, 10])\n"
     ]
    }
   ],
   "execution_count": 8
  },
  {
   "metadata": {},
   "cell_type": "markdown",
   "source": "## n-dimensional tensor",
   "id": "d6c0724e69d2d8d6"
  },
  {
   "metadata": {},
   "cell_type": "code",
   "outputs": [],
   "execution_count": null,
   "source": "",
   "id": "3279f127d0f16a21"
  }
 ],
 "metadata": {
  "kernelspec": {
   "display_name": "Python 3",
   "language": "python",
   "name": "python3"
  },
  "language_info": {
   "codemirror_mode": {
    "name": "ipython",
    "version": 3
   },
   "file_extension": ".py",
   "mimetype": "text/x-python",
   "name": "python",
   "nbconvert_exporter": "python",
   "pygments_lexer": "ipython3",
   "version": "3.10.14"
  }
 },
 "nbformat": 4,
 "nbformat_minor": 5
}
