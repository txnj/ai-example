{
 "cells": [
  {
   "cell_type": "code",
   "id": "initial_id",
   "metadata": {
    "collapsed": true,
    "ExecuteTime": {
     "end_time": "2024-09-04T16:00:20.387431Z",
     "start_time": "2024-09-04T16:00:20.342400Z"
    }
   },
   "source": [
    "import torch\n",
    "\n",
    "a = torch.tensor([2, 2])\n",
    "print(a)\n",
    "print(a.type())\n",
    "b = torch.tensor([[1, 2, 3], [4, 5, 6]])\n",
    "print(b)\n",
    "print(b.type())\n",
    "c = torch.Tensor([[1, 2, 3], [4, 5, 6]])\n",
    "print(c)\n",
    "print(c.type())"
   ],
   "outputs": [
    {
     "name": "stdout",
     "output_type": "stream",
     "text": [
      "tensor([2, 2])\n",
      "torch.LongTensor\n",
      "tensor([[1, 2, 3],\n",
      "        [4, 5, 6]])\n",
      "torch.LongTensor\n",
      "tensor([[1., 2., 3.],\n",
      "        [4., 5., 6.]])\n",
      "torch.FloatTensor\n"
     ]
    }
   ],
   "execution_count": 5
  },
  {
   "metadata": {
    "ExecuteTime": {
     "end_time": "2024-09-04T16:11:44.606666Z",
     "start_time": "2024-09-04T16:11:44.588660Z"
    }
   },
   "cell_type": "code",
   "source": [
    "a = torch.rand(2, 2)\n",
    "print(a)"
   ],
   "id": "178f20bf73cf8f8e",
   "outputs": [
    {
     "name": "stdout",
     "output_type": "stream",
     "text": [
      "tensor([[[0.7603, 0.0874],\n",
      "         [0.3752, 0.0174]],\n",
      "\n",
      "        [[0.0043, 0.3362],\n",
      "         [0.7132, 0.4213]]])\n"
     ]
    }
   ],
   "execution_count": 7
  },
  {
   "metadata": {
    "ExecuteTime": {
     "end_time": "2024-09-04T16:14:07.023384Z",
     "start_time": "2024-09-04T16:14:06.875474Z"
    }
   },
   "cell_type": "code",
   "source": [
    "a = torch.normal(mean=0.0, std=torch.rand(5))\n",
    "a"
   ],
   "id": "7c7a393656f1d966",
   "outputs": [
    {
     "data": {
      "text/plain": [
       "tensor([-0.0726, -0.1407,  0.2383, -0.7009,  0.8585])"
      ]
     },
     "execution_count": 8,
     "metadata": {},
     "output_type": "execute_result"
    }
   ],
   "execution_count": 8
  },
  {
   "metadata": {
    "ExecuteTime": {
     "end_time": "2024-09-04T16:17:45.117448Z",
     "start_time": "2024-09-04T16:17:45.102881Z"
    }
   },
   "cell_type": "code",
   "source": [
    "a = torch.Tensor(2, 2).uniform_(-1, 1)\n",
    "a"
   ],
   "id": "5ab18cacdd6badb5",
   "outputs": [
    {
     "data": {
      "text/plain": [
       "tensor([[-0.7485,  0.8495],\n",
       "        [ 0.1740,  0.5815]])"
      ]
     },
     "execution_count": 12,
     "metadata": {},
     "output_type": "execute_result"
    }
   ],
   "execution_count": 12
  },
  {
   "metadata": {
    "ExecuteTime": {
     "end_time": "2024-09-04T16:19:17.316333Z",
     "start_time": "2024-09-04T16:19:17.300713Z"
    }
   },
   "cell_type": "code",
   "source": [
    "a = torch.arange(0, 10, 3)\n",
    "a"
   ],
   "id": "746725610b4ea744",
   "outputs": [
    {
     "data": {
      "text/plain": [
       "tensor([0, 3, 6, 9])"
      ]
     },
     "execution_count": 16,
     "metadata": {},
     "output_type": "execute_result"
    }
   ],
   "execution_count": 16
  },
  {
   "metadata": {
    "ExecuteTime": {
     "end_time": "2024-09-04T16:19:51.421144Z",
     "start_time": "2024-09-04T16:19:51.414144Z"
    }
   },
   "cell_type": "code",
   "source": [
    "# 获取等间隔值\n",
    "a = torch.linspace(2, 10, 3)\n",
    "a"
   ],
   "id": "2b2de3613050eb7f",
   "outputs": [
    {
     "data": {
      "text/plain": [
       "tensor([ 2.,  6., 10.])"
      ]
     },
     "execution_count": 17,
     "metadata": {},
     "output_type": "execute_result"
    }
   ],
   "execution_count": 17
  },
  {
   "metadata": {
    "ExecuteTime": {
     "end_time": "2024-09-04T16:22:42.639836Z",
     "start_time": "2024-09-04T16:22:42.572279Z"
    }
   },
   "cell_type": "code",
   "source": [
    "# 打乱顺序\n",
    "a = torch.randperm(10)\n",
    "a"
   ],
   "id": "17c5faf2f347acf4",
   "outputs": [
    {
     "data": {
      "text/plain": [
       "tensor([6, 3, 5, 7, 2, 9, 8, 0, 1, 4])"
      ]
     },
     "execution_count": 18,
     "metadata": {},
     "output_type": "execute_result"
    }
   ],
   "execution_count": 18
  },
  {
   "metadata": {
    "ExecuteTime": {
     "end_time": "2024-09-04T16:26:11.590646Z",
     "start_time": "2024-09-04T16:26:11.582833Z"
    }
   },
   "cell_type": "code",
   "source": [
    "import numpy as np\n",
    "a = np.array([[1, 2, 3, 4, 5],[6, 7, 8, 9, 10]])\n",
    "a"
   ],
   "id": "5c2f38e33134436",
   "outputs": [
    {
     "data": {
      "text/plain": [
       "array([[ 1,  2,  3,  4,  5],\n",
       "       [ 6,  7,  8,  9, 10]])"
      ]
     },
     "execution_count": 23,
     "metadata": {},
     "output_type": "execute_result"
    }
   ],
   "execution_count": 23
  },
  {
   "metadata": {
    "ExecuteTime": {
     "end_time": "2024-09-05T01:54:54.987550Z",
     "start_time": "2024-09-05T01:54:54.974432Z"
    }
   },
   "cell_type": "code",
   "source": [
    "import torch\n",
    "a = torch.tensor([3,4],device=\"cuda\")\n",
    "a"
   ],
   "id": "3a031d28acb5dde9",
   "outputs": [
    {
     "data": {
      "text/plain": [
       "tensor([3, 4], device='cuda:0')"
      ]
     },
     "execution_count": 6,
     "metadata": {},
     "output_type": "execute_result"
    }
   ],
   "execution_count": 6
  },
  {
   "metadata": {},
   "cell_type": "code",
   "outputs": [],
   "execution_count": null,
   "source": "",
   "id": "3479376d41599f13"
  }
 ],
 "metadata": {
  "kernelspec": {
   "display_name": "Python 3",
   "language": "python",
   "name": "python3"
  },
  "language_info": {
   "codemirror_mode": {
    "name": "ipython",
    "version": 2
   },
   "file_extension": ".py",
   "mimetype": "text/x-python",
   "name": "python",
   "nbconvert_exporter": "python",
   "pygments_lexer": "ipython2",
   "version": "2.7.6"
  }
 },
 "nbformat": 4,
 "nbformat_minor": 5
}
