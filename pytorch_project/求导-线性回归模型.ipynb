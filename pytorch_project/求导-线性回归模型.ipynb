{
 "cells": [
  {
   "cell_type": "code",
   "execution_count": 1,
   "id": "initial_id",
   "metadata": {
    "ExecuteTime": {
     "end_time": "2024-09-05T22:09:52.371517Z",
     "start_time": "2024-09-05T22:09:52.364110Z"
    },
    "collapsed": true
   },
   "outputs": [
    {
     "name": "stdout",
     "output_type": "stream",
     "text": [
      "tensor([[-0.0715, -1.8414, -1.3939, -0.1334],\n",
      "        [ 0.2784, -0.0738,  0.3051,  0.7567],\n",
      "        [ 1.0804, -1.0013, -2.6729, -0.7928]], requires_grad=True)\n",
      "tensor([[-0.3077,  0.2291,  0.7008, -1.1828],\n",
      "        [ 0.7223,  1.8537, -0.2271,  2.3113],\n",
      "        [ 1.2290, -0.7723,  0.7342, -0.6633]], requires_grad=True)\n",
      "torch.Size([3, 4])\n",
      "tensor([[-0.3792, -1.6123, -0.6931, -1.3162],\n",
      "        [ 1.0008,  1.7799,  0.0780,  3.0680],\n",
      "        [ 2.3093, -1.7736, -1.9387, -1.4561]], grad_fn=<AddBackward0>)\n",
      "tensor(-0.9331, grad_fn=<SumBackward0>)\n",
      "--------------------------------------------------\n",
      "tensor([[1., 1., 1., 1.],\n",
      "        [1., 1., 1., 1.],\n",
      "        [1., 1., 1., 1.]])\n"
     ]
    }
   ],
   "source": [
    "import torch\n",
    "\n",
    "a = torch.randn(3, 4, requires_grad=True)\n",
    "b = torch.randn(3, 4, requires_grad=True)\n",
    "print(a)\n",
    "print(b)\n",
    "x = a + b\n",
    "print(x.shape)\n",
    "print(x)\n",
    "y = x.sum()\n",
    "print(y)\n",
    "print(\"-\" * 50)\n",
    "y.backward()\n",
    "print(b.grad)"
   ]
  },
  {
   "cell_type": "code",
   "execution_count": 18,
   "id": "197fce0b4dd82ea5",
   "metadata": {
    "ExecuteTime": {
     "end_time": "2024-09-05T22:26:57.172903Z",
     "start_time": "2024-09-05T22:26:57.152509Z"
    }
   },
   "outputs": [
    {
     "name": "stdout",
     "output_type": "stream",
     "text": [
      "tensor([0.1744]) tensor([0.3201], requires_grad=True) tensor([0.0203], requires_grad=True)\n",
      "False True True True True\n",
      "True True True False False\n",
      "tensor([0.1744]) tensor([1.])\n"
     ]
    }
   ],
   "source": [
    "import torch\n",
    "\n",
    "a = torch.rand(1)\n",
    "b = torch.rand(1, requires_grad=True)\n",
    "c = torch.rand(1, requires_grad=True)\n",
    "print(a, b, c)\n",
    "x = c * a\n",
    "y = x + b\n",
    "print(a.requires_grad, b.requires_grad, c.requires_grad, x.requires_grad, y.requires_grad)\n",
    "print(a.is_leaf, b.is_leaf, c.is_leaf, x.is_leaf, y.is_leaf)  # 叶子"
   ]
  },
  {
   "cell_type": "markdown",
   "id": "72115e2dae0d76b",
   "metadata": {},
   "source": []
  },
  {
   "cell_type": "code",
   "execution_count": 21,
   "id": "e6e9130a9df25040",
   "metadata": {
    "ExecuteTime": {
     "end_time": "2024-09-05T22:28:02.654720Z",
     "start_time": "2024-09-05T22:28:02.645203Z"
    }
   },
   "outputs": [
    {
     "name": "stdout",
     "output_type": "stream",
     "text": [
      "tensor([0.6975]) tensor([4.])\n"
     ]
    }
   ],
   "source": [
    "y.backward(retain_graph=True)  # 如果不清空会累加起来\n",
    "print(c.grad, b.grad)"
   ]
  },
  {
   "cell_type": "code",
   "execution_count": 39,
   "id": "13b0b46ce5707def",
   "metadata": {
    "ExecuteTime": {
     "end_time": "2024-09-05T23:14:03.774368Z",
     "start_time": "2024-09-05T23:14:03.758862Z"
    }
   },
   "outputs": [
    {
     "name": "stdout",
     "output_type": "stream",
     "text": [
      "(11, 1)\n",
      "(11, 1)\n"
     ]
    }
   ],
   "source": [
    "import numpy as np\n",
    "\n",
    "x_values = [i for i in range(11)]\n",
    "x_train = np.array(x_values, dtype=np.float32)\n",
    "x_train = x_train.reshape(-1, 1)\n",
    "print(x_train.shape)\n",
    "y_values = [2 * i + 1 for i in x_values]\n",
    "y_train = np.array(y_values, dtype=np.float32)\n",
    "y_train = y_train.reshape(-1, 1)\n",
    "print(y_train.shape)"
   ]
  },
  {
   "cell_type": "code",
   "execution_count": 52,
   "id": "5328a87d2d841d3a",
   "metadata": {
    "ExecuteTime": {
     "end_time": "2024-09-05T23:41:33.760723Z",
     "start_time": "2024-09-05T23:41:33.748413Z"
    }
   },
   "outputs": [
    {
     "name": "stdout",
     "output_type": "stream",
     "text": [
      "cuda\n"
     ]
    },
    {
     "data": {
      "text/plain": [
       "LinearRegressionModel(\n",
       "  (linear): Linear(in_features=1, out_features=1, bias=True)\n",
       ")"
      ]
     },
     "execution_count": 52,
     "metadata": {},
     "output_type": "execute_result"
    }
   ],
   "source": [
    "# 线性回归模型\n",
    "import torch\n",
    "\n",
    "\n",
    "class LinearRegressionModel(torch.nn.Module):\n",
    "    def __init__(self, input_dim, output_dim):\n",
    "        super(LinearRegressionModel, self).__init__()\n",
    "        self.linear = torch.nn.Linear(input_dim, output_dim)\n",
    "\n",
    "    def forward(self, x):\n",
    "        out = self.linear(x)\n",
    "        return out\n",
    "\n",
    "\n",
    "input_dim = 1\n",
    "output_dim = 1\n",
    "model = LinearRegressionModel(input_dim, output_dim)\n",
    "device = torch.device('cuda' if torch.cuda.is_available() else 'cpu')\n",
    "print(device)\n",
    "model = model.to(device)\n",
    "model"
   ]
  },
  {
   "cell_type": "code",
   "execution_count": 43,
   "id": "85f234bd69cff99f",
   "metadata": {
    "ExecuteTime": {
     "end_time": "2024-09-05T23:31:49.098345Z",
     "start_time": "2024-09-05T23:31:47.534053Z"
    }
   },
   "outputs": [],
   "source": [
    "# 指定参数和损失函数\n",
    "epochs = 1000\n",
    "learning_rate = 0.01\n",
    "optimizer = torch.optim.SGD(model.parameters(), lr=learning_rate)\n",
    "criterion = torch.nn.MSELoss()"
   ]
  },
  {
   "cell_type": "code",
   "execution_count": 48,
   "id": "d7d11cbbc53abe51",
   "metadata": {
    "ExecuteTime": {
     "end_time": "2024-09-05T23:40:00.877639Z",
     "start_time": "2024-09-05T23:39:58.689433Z"
    }
   },
   "outputs": [
    {
     "name": "stdout",
     "output_type": "stream",
     "text": [
      "Epoch 50/1000, Loss: 61.9269\n",
      "Epoch 100/1000, Loss: 61.9269\n",
      "Epoch 150/1000, Loss: 61.9269\n",
      "Epoch 200/1000, Loss: 61.9269\n",
      "Epoch 250/1000, Loss: 61.9269\n",
      "Epoch 300/1000, Loss: 61.9269\n",
      "Epoch 350/1000, Loss: 61.9269\n",
      "Epoch 400/1000, Loss: 61.9269\n",
      "Epoch 450/1000, Loss: 61.9269\n",
      "Epoch 500/1000, Loss: 61.9269\n",
      "Epoch 550/1000, Loss: 61.9269\n",
      "Epoch 600/1000, Loss: 61.9269\n",
      "Epoch 650/1000, Loss: 61.9269\n",
      "Epoch 700/1000, Loss: 61.9269\n",
      "Epoch 750/1000, Loss: 61.9269\n",
      "Epoch 800/1000, Loss: 61.9269\n",
      "Epoch 850/1000, Loss: 61.9269\n",
      "Epoch 900/1000, Loss: 61.9269\n",
      "Epoch 950/1000, Loss: 61.9269\n",
      "Epoch 1000/1000, Loss: 61.9269\n"
     ]
    }
   ],
   "source": [
    "# 训练模型\n",
    "for epoch in range(epochs):\n",
    "    epoch += 1\n",
    "    inputs = torch.from_numpy(x_train).to(device)\n",
    "    labels = torch.from_numpy(y_train).to(device)\n",
    "    # 梯度要清零\n",
    "    optimizer.zero_grad()\n",
    "    # 前向传播\n",
    "    output = model(inputs)\n",
    "    # 计算损失\n",
    "    loss = criterion(output, labels)\n",
    "    # 反向传播\n",
    "    loss.backward()\n",
    "    # 更新权重参数\n",
    "    optimizer.step()\n",
    "    if epoch % 50 == 0:\n",
    "        print('Epoch %d/%d, Loss: %.4f' % (epoch, epochs, loss.item()))\n"
   ]
  },
  {
   "cell_type": "code",
   "execution_count": 60,
   "id": "b29a54116b5263d6",
   "metadata": {
    "ExecuteTime": {
     "end_time": "2024-09-05T23:43:29.283261Z",
     "start_time": "2024-09-05T23:43:29.269Z"
    }
   },
   "outputs": [
    {
     "data": {
      "text/plain": [
       "tensor([[ -0.9258],\n",
       "        [ -1.8744],\n",
       "        [ -2.8229],\n",
       "        [ -3.7715],\n",
       "        [ -4.7200],\n",
       "        [ -5.6686],\n",
       "        [ -6.6171],\n",
       "        [ -7.5656],\n",
       "        [ -8.5142],\n",
       "        [ -9.4627],\n",
       "        [-10.4113]], device='cuda:0')"
      ]
     },
     "execution_count": 60,
     "metadata": {},
     "output_type": "execute_result"
    }
   ],
   "source": [
    "# 模型预测\n",
    "predicted = model(torch.from_numpy(x_train).to(device).requires_grad_()).data\n",
    "predicted"
   ]
  },
  {
   "cell_type": "code",
   "execution_count": null,
   "id": "e3b93d51ceaf7171",
   "metadata": {},
   "outputs": [],
   "source": [
    "# 模型保存和读取\n",
    "torch.save(model.state_dict(), 'model.pth')\n",
    "model.load_state_dict(torch.load('model.pth'))"
   ]
  }
 ],
 "metadata": {
  "kernelspec": {
   "display_name": "Python 3",
   "language": "python",
   "name": "python3"
  },
  "language_info": {
   "codemirror_mode": {
    "name": "ipython",
    "version": 3
   },
   "file_extension": ".py",
   "mimetype": "text/x-python",
   "name": "python",
   "nbconvert_exporter": "python",
   "pygments_lexer": "ipython3",
   "version": "3.10.14"
  }
 },
 "nbformat": 4,
 "nbformat_minor": 5
}
