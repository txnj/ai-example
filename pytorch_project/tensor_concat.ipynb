{
 "cells": [
  {
   "cell_type": "code",
   "id": "initial_id",
   "metadata": {
    "collapsed": true,
    "ExecuteTime": {
     "end_time": "2024-09-05T07:12:20.713374Z",
     "start_time": "2024-09-05T07:12:20.681606Z"
    }
   },
   "source": [
    "import torch\n",
    "\n",
    "a = torch.zeros(2, 4)\n",
    "b = torch.ones(2, 4)\n",
    "print(a)\n",
    "print(b)\n",
    "print(torch.cat((a, b), dim=0))"
   ],
   "outputs": [
    {
     "name": "stdout",
     "output_type": "stream",
     "text": [
      "tensor([[0., 0., 0., 0.],\n",
      "        [0., 0., 0., 0.]])\n",
      "tensor([[1., 1., 1., 1.],\n",
      "        [1., 1., 1., 1.]])\n",
      "tensor([[0., 0., 0., 0., 1., 1., 1., 1.],\n",
      "        [0., 0., 0., 0., 1., 1., 1., 1.]])\n"
     ]
    }
   ],
   "execution_count": 6
  },
  {
   "metadata": {
    "ExecuteTime": {
     "end_time": "2024-09-05T07:15:01.220852Z",
     "start_time": "2024-09-05T07:15:01.206211Z"
    }
   },
   "cell_type": "code",
   "source": [
    "a = torch.linspace(1, 10, 6).view(2, 3)\n",
    "b = torch.linspace(7, 14, 6).view(2, 3)\n",
    "print(a)\n",
    "print(b)\n",
    "torch.stack((a, b), dim=0)"
   ],
   "id": "e8a3f44a96b9123d",
   "outputs": [
    {
     "name": "stdout",
     "output_type": "stream",
     "text": [
      "tensor([[ 1.0000,  2.8000,  4.6000],\n",
      "        [ 6.4000,  8.2000, 10.0000]])\n",
      "tensor([[ 7.0000,  8.4000,  9.8000],\n",
      "        [11.2000, 12.6000, 14.0000]])\n"
     ]
    },
    {
     "data": {
      "text/plain": [
       "tensor([[[ 1.0000,  2.8000,  4.6000],\n",
       "         [ 6.4000,  8.2000, 10.0000]],\n",
       "\n",
       "        [[ 7.0000,  8.4000,  9.8000],\n",
       "         [11.2000, 12.6000, 14.0000]]])"
      ]
     },
     "execution_count": 10,
     "metadata": {},
     "output_type": "execute_result"
    }
   ],
   "execution_count": 10
  },
  {
   "metadata": {},
   "cell_type": "code",
   "outputs": [],
   "execution_count": null,
   "source": "",
   "id": "3c333b2e0f6311bb"
  }
 ],
 "metadata": {
  "kernelspec": {
   "display_name": "Python 3",
   "language": "python",
   "name": "python3"
  },
  "language_info": {
   "codemirror_mode": {
    "name": "ipython",
    "version": 2
   },
   "file_extension": ".py",
   "mimetype": "text/x-python",
   "name": "python",
   "nbconvert_exporter": "python",
   "pygments_lexer": "ipython2",
   "version": "2.7.6"
  }
 },
 "nbformat": 4,
 "nbformat_minor": 5
}
