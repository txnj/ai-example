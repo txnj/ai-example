{
 "cells": [
  {
   "cell_type": "code",
   "execution_count": null,
   "id": "initial_id",
   "metadata": {
    "collapsed": true
   },
   "outputs": [],
   "source": [
    "# 三角函数\n",
    "import math\n",
    "import torch\n",
    "\n",
    "# 1°=π/180°，1rad=180°/π\n",
    "# 一周是360度，也是海贪2π弧度，即360°=2π\n",
    "a = torch.tensor([math.radians(30)])\n",
    "print(a)\n",
    "print(torch.cos(a))"
   ]
  },
  {
   "metadata": {
    "ExecuteTime": {
     "end_time": "2024-09-05T05:01:52.378136Z",
     "start_time": "2024-09-05T05:01:52.272041Z"
    }
   },
   "cell_type": "code",
   "source": [
    "import torch\n",
    "\n",
    "a = torch.tensor([\n",
    "    [1, 2, 3],\n",
    "    [4, 5, 6],\n",
    "    [7, 8, 9]\n",
    "], dtype=torch.float)\n",
    "print(a)\n",
    "print(torch.mean(a, dim=0))  # 均值\n",
    "print(torch.sum(a))  # 总和\n",
    "print(torch.prod(a))  # 计算所有元素的积\n",
    "print(torch.argmax(a, dim=0))  # 打印0维,最大值的索引值\n",
    "print(torch.argmin(a, dim=1))  # 打印1维,最小值的索引值\n",
    "print(\"-\" * 50)\n",
    "print(torch.median(a, dim=0))  # 返回中间值\n",
    "print(torch.mode(a, dim=0))  # 返回众数值"
   ],
   "id": "cf8b568732aa7b92",
   "outputs": [
    {
     "name": "stdout",
     "output_type": "stream",
     "text": [
      "tensor([[1., 2., 3.],\n",
      "        [4., 5., 6.],\n",
      "        [7., 8., 9.]])\n",
      "tensor([4., 5., 6.])\n",
      "tensor(45.)\n",
      "tensor(362880.)\n",
      "tensor([2, 2, 2])\n",
      "tensor([0, 0, 0])\n",
      "--------------------------------------------------\n",
      "torch.return_types.median(\n",
      "values=tensor([4., 5., 6.]),\n",
      "indices=tensor([1, 1, 1]))\n",
      "torch.return_types.mode(\n",
      "values=tensor([1., 2., 3.]),\n",
      "indices=tensor([0, 0, 0]))\n"
     ]
    }
   ],
   "execution_count": 20
  },
  {
   "metadata": {
    "ExecuteTime": {
     "end_time": "2024-09-05T05:30:07.274539Z",
     "start_time": "2024-09-05T05:30:07.221685Z"
    }
   },
   "cell_type": "code",
   "source": [
    "import torch\n",
    "\n",
    "torch.manual_seed(1)\n",
    "mean = torch.rand(1, 2)\n",
    "print(mean)\n",
    "std = torch.rand(1, 2)\n",
    "print(std)\n",
    "torch.normal(mean, std)"
   ],
   "id": "5ee4c1a45a50acb9",
   "outputs": [
    {
     "name": "stdout",
     "output_type": "stream",
     "text": [
      "tensor([[0.7576, 0.2793]])\n",
      "tensor([[0.4031, 0.7347]])\n"
     ]
    },
    {
     "data": {
      "text/plain": [
       "tensor([[0.7825, 0.7358]])"
      ]
     },
     "execution_count": 22,
     "metadata": {},
     "output_type": "execute_result"
    }
   ],
   "execution_count": 22
  },
  {
   "metadata": {
    "ExecuteTime": {
     "end_time": "2024-09-05T09:15:47.914908Z",
     "start_time": "2024-09-05T09:15:47.907904Z"
    }
   },
   "cell_type": "code",
   "source": [
    "import torch\n",
    "\n",
    "\n",
    "class Line(torch.autograd.Function):\n",
    "    @staticmethod\n",
    "    def forward(ctx, w, x, b):\n",
    "        ctx.save_for_backward(w, x, b)\n",
    "        return w * x + b\n",
    "\n",
    "    @staticmethod\n",
    "    def backward(ctx, *grad_output):\n",
    "        w, x, b = ctx.saved_tensors\n",
    "        print(out.type())\n",
    "        grad_w = grad_output[0] * x\n",
    "        grad_x = grad_output[0] * w\n",
    "        grad_b = grad_output[0]\n",
    "        return grad_w, grad_x, grad_b\n",
    "\n",
    "\n",
    "w = torch.rand(2, 2, requires_grad=True)\n",
    "x = torch.rand(2, 2, requires_grad=True)\n",
    "b = torch.rand(2, 2, requires_grad=True)\n",
    "print(w)\n",
    "print(x)\n",
    "print(b)\n",
    "print(\"-\" * 50)\n",
    "out = Line.apply(w, x, b)\n",
    "print(out)\n",
    "out.backward(torch.ones_like(out))\n",
    "print(\"-\" * 50)\n",
    "print(w.grad)\n",
    "print(x.grad)\n",
    "print(b.grad)\n"
   ],
   "id": "a6231dad197a5c62",
   "outputs": [
    {
     "name": "stdout",
     "output_type": "stream",
     "text": [
      "tensor([[0.9544, 0.9371],\n",
      "        [0.2165, 0.9892]], requires_grad=True)\n",
      "tensor([[0.6237, 0.1679],\n",
      "        [0.7737, 0.1267]], requires_grad=True)\n",
      "tensor([[0.9620, 0.1786],\n",
      "        [0.6414, 0.6523]], requires_grad=True)\n",
      "--------------------------------------------------\n",
      "tensor([[1.5572, 0.3359],\n",
      "        [0.8089, 0.7776]], grad_fn=<LineBackward>)\n",
      "torch.FloatTensor\n",
      "tensor([[0.6237, 0.1679],\n",
      "        [0.7737, 0.1267]])\n",
      "tensor([[0.9544, 0.9371],\n",
      "        [0.2165, 0.9892]])\n",
      "tensor([[1., 1.],\n",
      "        [1., 1.]])\n"
     ]
    }
   ],
   "execution_count": 44
  },
  {
   "metadata": {},
   "cell_type": "code",
   "outputs": [],
   "execution_count": null,
   "source": "",
   "id": "6d97f543c39ee78e"
  }
 ],
 "metadata": {
  "kernelspec": {
   "display_name": "Python 3",
   "language": "python",
   "name": "python3"
  },
  "language_info": {
   "codemirror_mode": {
    "name": "ipython",
    "version": 2
   },
   "file_extension": ".py",
   "mimetype": "text/x-python",
   "name": "python",
   "nbconvert_exporter": "python",
   "pygments_lexer": "ipython2",
   "version": "2.7.6"
  }
 },
 "nbformat": 4,
 "nbformat_minor": 5
}
