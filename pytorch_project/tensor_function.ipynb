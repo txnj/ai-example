{
 "cells": [
  {
   "cell_type": "code",
   "execution_count": null,
   "id": "initial_id",
   "metadata": {
    "collapsed": true
   },
   "outputs": [],
   "source": [
    "# 三角函数\n",
    "import math\n",
    "import torch\n",
    "\n",
    "# 1°=π/180°，1rad=180°/π\n",
    "# 一周是360度，也是海贪2π弧度，即360°=2π\n",
    "a = torch.tensor([math.radians(30)])\n",
    "print(a)\n",
    "print(torch.cos(a))"
   ]
  },
  {
   "metadata": {
    "ExecuteTime": {
     "end_time": "2024-09-05T05:01:52.378136Z",
     "start_time": "2024-09-05T05:01:52.272041Z"
    }
   },
   "cell_type": "code",
   "source": [
    "import torch\n",
    "\n",
    "a = torch.tensor([\n",
    "    [1, 2, 3],\n",
    "    [4, 5, 6],\n",
    "    [7, 8, 9]\n",
    "], dtype=torch.float)\n",
    "print(a)\n",
    "print(torch.mean(a, dim=0))  # 均值\n",
    "print(torch.sum(a))  # 总和\n",
    "print(torch.prod(a))  # 计算所有元素的积\n",
    "print(torch.argmax(a, dim=0))  # 打印0维,最大值的索引值\n",
    "print(torch.argmin(a, dim=1))  # 打印1维,最小值的索引值\n",
    "print(\"-\" * 50)\n",
    "print(torch.median(a, dim=0))  # 返回中间值\n",
    "print(torch.mode(a, dim=0))  # 返回众数值"
   ],
   "id": "cf8b568732aa7b92",
   "outputs": [
    {
     "name": "stdout",
     "output_type": "stream",
     "text": [
      "tensor([[1., 2., 3.],\n",
      "        [4., 5., 6.],\n",
      "        [7., 8., 9.]])\n",
      "tensor([4., 5., 6.])\n",
      "tensor(45.)\n",
      "tensor(362880.)\n",
      "tensor([2, 2, 2])\n",
      "tensor([0, 0, 0])\n",
      "--------------------------------------------------\n",
      "torch.return_types.median(\n",
      "values=tensor([4., 5., 6.]),\n",
      "indices=tensor([1, 1, 1]))\n",
      "torch.return_types.mode(\n",
      "values=tensor([1., 2., 3.]),\n",
      "indices=tensor([0, 0, 0]))\n"
     ]
    }
   ],
   "execution_count": 20
  },
  {
   "metadata": {
    "ExecuteTime": {
     "end_time": "2024-09-05T05:30:07.274539Z",
     "start_time": "2024-09-05T05:30:07.221685Z"
    }
   },
   "cell_type": "code",
   "source": [
    "import torch\n",
    "\n",
    "torch.manual_seed(1)\n",
    "mean = torch.rand(1, 2)\n",
    "print(mean)\n",
    "std = torch.rand(1, 2)\n",
    "print(std)\n",
    "torch.normal(mean, std)"
   ],
   "id": "5ee4c1a45a50acb9",
   "outputs": [
    {
     "name": "stdout",
     "output_type": "stream",
     "text": [
      "tensor([[0.7576, 0.2793]])\n",
      "tensor([[0.4031, 0.7347]])\n"
     ]
    },
    {
     "data": {
      "text/plain": [
       "tensor([[0.7825, 0.7358]])"
      ]
     },
     "execution_count": 22,
     "metadata": {},
     "output_type": "execute_result"
    }
   ],
   "execution_count": 22
  },
  {
   "metadata": {},
   "cell_type": "code",
   "outputs": [],
   "execution_count": null,
   "source": "",
   "id": "a6231dad197a5c62"
  }
 ],
 "metadata": {
  "kernelspec": {
   "display_name": "Python 3",
   "language": "python",
   "name": "python3"
  },
  "language_info": {
   "codemirror_mode": {
    "name": "ipython",
    "version": 2
   },
   "file_extension": ".py",
   "mimetype": "text/x-python",
   "name": "python",
   "nbconvert_exporter": "python",
   "pygments_lexer": "ipython2",
   "version": "2.7.6"
  }
 },
 "nbformat": 4,
 "nbformat_minor": 5
}
