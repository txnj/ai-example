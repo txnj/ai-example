{
 "cells": [
  {
   "metadata": {},
   "cell_type": "markdown",
   "source": "### 卷积神经网络",
   "id": "244fca0417bd6393"
  },
  {
   "metadata": {
    "ExecuteTime": {
     "end_time": "2024-09-08T03:37:49.383704Z",
     "start_time": "2024-09-08T03:37:49.370296Z"
    }
   },
   "cell_type": "code",
   "source": [
    "import torch\n",
    "import torch.nn as nn\n",
    "import torch.optim as optim\n",
    "import torch.nn.functional as fn\n",
    "from torchvision import datasets, transforms\n",
    "from torch.utils.data import DataLoader, Dataset\n",
    "import matplotlib.pyplot as plt\n",
    "import numpy as np\n",
    "%matplotlib inline \n",
    "# %matplotlib inline 的作用是 将 matplotlib 生成的图表直接嵌入到笔记本中 无需使用 plt.show() 就能显示图表 提高交互性，方便查看和分析数据可视化结果 \n",
    "# 这个魔法命令使得数据分析和可视化工作更加流畅和直观。它特别适合于探索性数据分析和快速原型设计"
   ],
   "id": "e2766ea878898b82",
   "outputs": [],
   "execution_count": 25
  },
  {
   "metadata": {},
   "cell_type": "markdown",
   "source": [
    "### 读取数据\n",
    "- 分别构建训练集和测试集(验证集)\n",
    "- DataLoader来迭代取数据"
   ],
   "id": "130f58df68c56901"
  },
  {
   "metadata": {
    "ExecuteTime": {
     "end_time": "2024-09-08T03:37:49.430328Z",
     "start_time": "2024-09-08T03:37:49.385707Z"
    }
   },
   "cell_type": "code",
   "source": [
    "input_size = 28  # 图像的总尺寸28*28\n",
    "num_classes = 10  # 标签的种类数\n",
    "num_epochs = 3  # 训练的总循环周期\n",
    "batch_size = 64  # 一个撮(批次)的大小,64张图片\n",
    "\n",
    "# 训练集\n",
    "train_dataset = datasets.MNIST(root='../data',\n",
    "                               train=True,\n",
    "                               transform=transforms.ToTensor(),\n",
    "                               download=True)\n",
    "\n",
    "# 测试集\n",
    "test_dataset = datasets.MNIST(root='../data',\n",
    "                              train=False,\n",
    "                              transform=transforms.ToTensor())\n",
    "\n",
    "# 构建batch数据\n",
    "train_loader = DataLoader(dataset=train_dataset,\n",
    "                          batch_size=batch_size,\n",
    "                          shuffle=True)\n",
    "test_loader = DataLoader(dataset=test_dataset,\n",
    "                         batch_size=batch_size,\n",
    "                         shuffle=True)"
   ],
   "id": "fe705328d43132ef",
   "outputs": [],
   "execution_count": 26
  },
  {
   "metadata": {},
   "cell_type": "markdown",
   "source": [
    "### 卷积网络模块构建\n",
    "- 一般卷积层,relu层,池化层可以写成一个套餐\n",
    "- 注意卷积的最后结果还是一个特征图,需要把图转换成向量才能做分类或者回归任务"
   ],
   "id": "d3a1da8f895bc833"
  },
  {
   "metadata": {
    "ExecuteTime": {
     "end_time": "2024-09-08T03:37:49.445930Z",
     "start_time": "2024-09-08T03:37:49.431839Z"
    }
   },
   "cell_type": "code",
   "source": [
    "class CNN(nn.Module):\n",
    "    def __init__(self):\n",
    "        super(CNN, self).__init__()\n",
    "        self.conv1 = nn.Sequential(  # 输入大小(1x28x28)\n",
    "            nn.Conv2d(\n",
    "                in_channels=1,  # 灰度图\n",
    "                out_channels=16,  # 要得到多少个特征图\n",
    "                kernel_size=5,  # 卷积核大小\n",
    "                stride=1,  # 步长\n",
    "                padding=2  # 如果希望卷积后跟原来大小一样,需要设置padding=(kernel_size-1)/2 if stride =1\n",
    "            ),  # 输出特征图为(16,28,28)\n",
    "            nn.ReLU(),  # relu层\n",
    "            nn.MaxPool2d(kernel_size=2)  # 输出 (32,7,7)\n",
    "        )\n",
    "        self.conv2 = nn.Sequential(\n",
    "            nn.Conv2d(16, 32, 5, 1, 2),\n",
    "            nn.ReLU(),\n",
    "            nn.MaxPool2d(kernel_size=2),\n",
    "        )\n",
    "        self.out = nn.Linear(32 * 7 * 7, 10)\n",
    "\n",
    "    def forward(self, x):\n",
    "        x = self.conv1(x)\n",
    "        x = self.conv2(x)\n",
    "        x = x.view(x.size(0), -1)  # flatten操作，结果为：(batch_size, 32 * 7 * 7)\n",
    "        return self.out(x)"
   ],
   "id": "265ea1bd6ff6e9b5",
   "outputs": [],
   "execution_count": 27
  },
  {
   "metadata": {},
   "cell_type": "markdown",
   "source": "### 准确率评估标准",
   "id": "bdb7d708b3785cfd"
  },
  {
   "metadata": {
    "ExecuteTime": {
     "end_time": "2024-09-08T03:37:49.461Z",
     "start_time": "2024-09-08T03:37:49.447441Z"
    }
   },
   "cell_type": "code",
   "source": [
    "def accuracy(predictions, labels):\n",
    "    pred = torch.max(predictions.data, 1)[1]\n",
    "    rights = pred.eq(labels.data.view_as(pred)).sum()\n",
    "    return rights, len(labels)"
   ],
   "id": "69f4123812a53734",
   "outputs": [],
   "execution_count": 28
  },
  {
   "metadata": {},
   "cell_type": "markdown",
   "source": "### 训练网络模型",
   "id": "5f634e74f014455a"
  },
  {
   "metadata": {
    "ExecuteTime": {
     "end_time": "2024-09-08T03:39:21.656812Z",
     "start_time": "2024-09-08T03:38:19.887670Z"
    }
   },
   "cell_type": "code",
   "source": [
    "# 实例化\n",
    "net = CNN()\n",
    "# 损失函数\n",
    "criterion = nn.CrossEntropyLoss()\n",
    "# 优化器 普通的随机梯度下降算法\n",
    "optimizer = optim.Adam(net.parameters(), lr=0.001)\n",
    "#开始训练循环\n",
    "for epoch in range(num_epochs):\n",
    "    #当前epoch的结果保存下来\n",
    "    train_rights = [] \n",
    "    \n",
    "    for batch_idx, (data, target) in enumerate(train_loader):  #针对容器中的每一个批进行循环\n",
    "        net.train()                             \n",
    "        output = net(data) \n",
    "        loss = criterion(output, target) \n",
    "        optimizer.zero_grad() \n",
    "        loss.backward() \n",
    "        optimizer.step() \n",
    "        right = accuracy(output, target) \n",
    "        train_rights.append(right) \n",
    "\n",
    "    \n",
    "        if batch_idx % 100 == 0: \n",
    "            \n",
    "            net.eval() \n",
    "            val_rights = [] \n",
    "            \n",
    "            for (data, target) in test_loader:\n",
    "                output = net(data) \n",
    "                right = accuracy(output, target) \n",
    "                val_rights.append(right)\n",
    "                \n",
    "            #准确率计算\n",
    "            train_r = (sum([tup[0] for tup in train_rights]), sum([tup[1] for tup in train_rights]))\n",
    "            val_r = (sum([tup[0] for tup in val_rights]), sum([tup[1] for tup in val_rights]))\n",
    "\n",
    "            print('当前epoch: {} [{}/{} ({:.0f}%)]\\t损失: {:.6f}\\t训练集准确率: {:.2f}%\\t测试集正确率: {:.2f}%'.format(\n",
    "                epoch, batch_idx * batch_size, len(train_loader.dataset),\n",
    "                100. * batch_idx / len(train_loader), \n",
    "                loss.data, \n",
    "                100. * train_r[0].numpy() / train_r[1], \n",
    "                100. * val_r[0].numpy() / val_r[1]))\n"
   ],
   "id": "60f866a146ff5f62",
   "outputs": [
    {
     "name": "stdout",
     "output_type": "stream",
     "text": [
      "当前epoch: 0 [0/60000 (0%)]\t损失: 2.300769\t训练集准确率: 12.50%\t测试集正确率: 11.79%\n",
      "当前epoch: 0 [6400/60000 (11%)]\t损失: 0.404928\t训练集准确率: 77.46%\t测试集正确率: 92.15%\n",
      "当前epoch: 0 [12800/60000 (21%)]\t损失: 0.230376\t训练集准确率: 85.16%\t测试集正确率: 94.64%\n",
      "当前epoch: 0 [19200/60000 (32%)]\t损失: 0.352231\t训练集准确率: 88.46%\t测试集正确率: 96.43%\n",
      "当前epoch: 0 [25600/60000 (43%)]\t损失: 0.040155\t训练集准确率: 90.39%\t测试集正确率: 97.27%\n",
      "当前epoch: 0 [32000/60000 (53%)]\t损失: 0.102461\t训练集准确率: 91.64%\t测试集正确率: 97.23%\n",
      "当前epoch: 0 [38400/60000 (64%)]\t损失: 0.048507\t训练集准确率: 92.55%\t测试集正确率: 97.65%\n",
      "当前epoch: 0 [44800/60000 (75%)]\t损失: 0.063543\t训练集准确率: 93.25%\t测试集正确率: 97.88%\n",
      "当前epoch: 0 [51200/60000 (85%)]\t损失: 0.168339\t训练集准确率: 93.81%\t测试集正确率: 97.56%\n",
      "当前epoch: 0 [57600/60000 (96%)]\t损失: 0.098812\t训练集准确率: 94.26%\t测试集正确率: 98.04%\n",
      "当前epoch: 1 [0/60000 (0%)]\t损失: 0.050791\t训练集准确率: 96.88%\t测试集正确率: 98.37%\n",
      "当前epoch: 1 [6400/60000 (11%)]\t损失: 0.043483\t训练集准确率: 98.19%\t测试集正确率: 98.26%\n",
      "当前epoch: 1 [12800/60000 (21%)]\t损失: 0.048166\t训练集准确率: 98.20%\t测试集正确率: 98.31%\n",
      "当前epoch: 1 [19200/60000 (32%)]\t损失: 0.057461\t训练集准确率: 98.18%\t测试集正确率: 98.37%\n",
      "当前epoch: 1 [25600/60000 (43%)]\t损失: 0.078293\t训练集准确率: 98.22%\t测试集正确率: 98.46%\n",
      "当前epoch: 1 [32000/60000 (53%)]\t损失: 0.046129\t训练集准确率: 98.21%\t测试集正确率: 98.46%\n",
      "当前epoch: 1 [38400/60000 (64%)]\t损失: 0.028914\t训练集准确率: 98.22%\t测试集正确率: 98.62%\n",
      "当前epoch: 1 [44800/60000 (75%)]\t损失: 0.018888\t训练集准确率: 98.22%\t测试集正确率: 98.18%\n",
      "当前epoch: 1 [51200/60000 (85%)]\t损失: 0.195067\t训练集准确率: 98.25%\t测试集正确率: 98.65%\n",
      "当前epoch: 1 [57600/60000 (96%)]\t损失: 0.038737\t训练集准确率: 98.27%\t测试集正确率: 98.47%\n",
      "当前epoch: 2 [0/60000 (0%)]\t损失: 0.040920\t训练集准确率: 98.44%\t测试集正确率: 98.60%\n",
      "当前epoch: 2 [6400/60000 (11%)]\t损失: 0.217030\t训练集准确率: 98.64%\t测试集正确率: 98.88%\n",
      "当前epoch: 2 [12800/60000 (21%)]\t损失: 0.033317\t训练集准确率: 98.73%\t测试集正确率: 98.83%\n",
      "当前epoch: 2 [19200/60000 (32%)]\t损失: 0.007840\t训练集准确率: 98.73%\t测试集正确率: 98.66%\n",
      "当前epoch: 2 [25600/60000 (43%)]\t损失: 0.012872\t训练集准确率: 98.73%\t测试集正确率: 98.82%\n",
      "当前epoch: 2 [32000/60000 (53%)]\t损失: 0.101990\t训练集准确率: 98.76%\t测试集正确率: 98.52%\n",
      "当前epoch: 2 [38400/60000 (64%)]\t损失: 0.017489\t训练集准确率: 98.74%\t测试集正确率: 98.94%\n",
      "当前epoch: 2 [44800/60000 (75%)]\t损失: 0.063561\t训练集准确率: 98.78%\t测试集正确率: 98.68%\n",
      "当前epoch: 2 [51200/60000 (85%)]\t损失: 0.065004\t训练集准确率: 98.77%\t测试集正确率: 98.66%\n",
      "当前epoch: 2 [57600/60000 (96%)]\t损失: 0.037906\t训练集准确率: 98.70%\t测试集正确率: 98.85%\n"
     ]
    }
   ],
   "execution_count": 30
  }
 ],
 "metadata": {
  "kernelspec": {
   "display_name": "Python 3",
   "language": "python",
   "name": "python3"
  },
  "language_info": {
   "codemirror_mode": {
    "name": "ipython",
    "version": 2
   },
   "file_extension": ".py",
   "mimetype": "text/x-python",
   "name": "python",
   "nbconvert_exporter": "python",
   "pygments_lexer": "ipython2",
   "version": "2.7.6"
  }
 },
 "nbformat": 4,
 "nbformat_minor": 5
}
