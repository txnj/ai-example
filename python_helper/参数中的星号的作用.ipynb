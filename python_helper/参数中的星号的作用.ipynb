{
 "cells": [
  {
   "cell_type": "markdown",
   "id": "b796c410af36e22b",
   "metadata": {},
   "source": [
    "# 在Python中，参数中的`*`有几个重要的作用：\n",
    "1. 解包（Unpacking）：\n",
    "   ```python\n",
    "   def func(a, b, c):\n",
    "       print(a, b, c)\n",
    "   \n",
    "   args = [1, 2, 3]\n",
    "   func(*args)  # 等同于 func(1, 2, 3)\n",
    "   ```\n",
    "\n",
    "2. 可变参数（Variable-length arguments）：\n",
    "   ```python\n",
    "   def func(*args):\n",
    "       for arg in args:\n",
    "           print(arg)\n",
    "   \n",
    "   func(1, 2, 3)  # 可以传入任意数量的参数\n",
    "   ```\n",
    "\n",
    "3. 关键字参数（Keyword arguments）：\n",
    "   ```python\n",
    "   def func(**kwargs):\n",
    "       for key, value in kwargs.items():\n",
    "           print(f\"{key}: {value}\")\n",
    "   \n",
    "   func(name=\"张三\", age=25)\n",
    "   ```\n",
    "\n",
    "4. 分隔位置参数和关键字参数：\n",
    "   ```python\n",
    "   def func(a, b, *, c, d):\n",
    "        print(a, b, c, d)\n",
    "   \n",
    "   func(1, 2, c=3, d=4)  # 正确\n",
    "   func(1, 2, 3, 4)  # 错误，c和d必须作为关键字参数传入\n",
    "   ```\n",
    "\n",
    "5. 仅限位置参数（Python 3.8+）：\n",
    "    ```python\n",
    "   def func(a, b, /, c, d):\n",
    "    print(a, b, c, d)\n",
    "   func(1, 2, 3, 4)  # 正确\n",
    "   func(1, 2, c=3, d=4)  # 正确\n",
    "   func(a=1, b=2, c=3, d=4)  # 错误，a和b必须作为位置参数传入\n",
    "   ```"
   ]
  },
  {
   "cell_type": "code",
   "execution_count": null,
   "id": "40a085b3d9eda42d",
   "metadata": {},
   "outputs": [],
   "source": []
  }
 ],
 "metadata": {
  "kernelspec": {
   "display_name": "Python 3",
   "language": "python",
   "name": "python3"
  },
  "language_info": {
   "codemirror_mode": {
    "name": "ipython",
    "version": 3
   },
   "file_extension": ".py",
   "mimetype": "text/x-python",
   "name": "python",
   "nbconvert_exporter": "python",
   "pygments_lexer": "ipython3",
   "version": "3.10.14"
  }
 },
 "nbformat": 4,
 "nbformat_minor": 5
}
