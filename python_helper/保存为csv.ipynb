{
 "cells": [
  {
   "metadata": {},
   "cell_type": "markdown",
   "source": [
    "# numpy保存为csv文件\n",
    "### 使用NumPy的savetxt()函数："
   ],
   "id": "bf42cdc9698f5696"
  },
  {
   "metadata": {
    "ExecuteTime": {
     "end_time": "2024-09-12T02:16:56.233655Z",
     "start_time": "2024-09-12T02:16:56.134039Z"
    }
   },
   "cell_type": "code",
   "source": [
    "import numpy as np\n",
    "\n",
    "# 假设您有一个NumPy数组\n",
    "data = np.array([[1, 2, 3], [4, 5, 6], [7, 8, 9]])\n",
    "\n",
    "# 将数据保存为CSV文件\n",
    "np.savetxt('output.csv', data, delimiter=',', fmt='%d')\n",
    "# 这里，delimiter=','指定使用逗号作为分隔符，fmt='%d'指定保存为整数格式。"
   ],
   "id": "12f4b841a7a2882d",
   "outputs": [],
   "execution_count": 1
  },
  {
   "metadata": {},
   "cell_type": "markdown",
   "source": [
    "### 使用pandas库（如果您的数据更复杂或需要更多控制）\n",
    "这种方法允许您为列添加标题，并提供更多的导出选项。"
   ],
   "id": "7430d236d51e6303"
  },
  {
   "metadata": {
    "ExecuteTime": {
     "end_time": "2024-09-12T02:18:23.444679Z",
     "start_time": "2024-09-12T02:18:22.756546Z"
    }
   },
   "cell_type": "code",
   "source": [
    "import numpy as np\n",
    "import pandas as pd\n",
    "\n",
    "# 假设您有一个NumPy数组\n",
    "data = np.array([[1, 2, 3], [4, 5, 6], [7, 8, 9]])\n",
    "\n",
    "# 将NumPy数组转换为DataFrame\n",
    "df = pd.DataFrame(data, columns=['A', 'B', 'C'])\n",
    "\n",
    "# 将DataFrame保存为CSV文件\n",
    "df.to_csv('output.csv', index=False)"
   ],
   "id": "140efaa38d42020e",
   "outputs": [],
   "execution_count": 2
  }
 ],
 "metadata": {
  "kernelspec": {
   "display_name": "Python 3",
   "language": "python",
   "name": "python3"
  },
  "language_info": {
   "codemirror_mode": {
    "name": "ipython",
    "version": 2
   },
   "file_extension": ".py",
   "mimetype": "text/x-python",
   "name": "python",
   "nbconvert_exporter": "python",
   "pygments_lexer": "ipython2",
   "version": "2.7.6"
  }
 },
 "nbformat": 4,
 "nbformat_minor": 5
}
