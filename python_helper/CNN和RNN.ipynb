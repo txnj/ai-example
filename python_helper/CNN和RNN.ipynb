{
 "cells": [
  {
   "metadata": {},
   "cell_type": "markdown",
   "source": [
    "# CNN和RNN是两种常用的深度学习神经网络架构:\n",
    "### CNN (卷积神经网络):\n",
    "- 主要用于处理网格结构数据,如图像\n",
    "- 特点:局部连接、权值共享、pooling操作\n",
    "- 优势:能有效提取空间特征,参数量少\n",
    "### RNN (循环神经网络):\n",
    "- 主要用于处理序列数据,如文本、时间序列\n",
    "-特点:具有内部状态(记忆),可处理变长序列\n",
    "- 优势:能捕捉时序依赖关系\n",
    "### CNN和RNN主要区别:\n",
    "- CNN擅长空间特征,RNN擅长时序特征\n",
    "- CNN并行处理,RNN顺序处理\n",
    "- CNN无内部状态,RNN有内部状态\n",
    "### LSTM (长短期记忆网络):\n",
    "- RNN的一种变体\n",
    "- 解决了RNN的长期依赖问题\n",
    "- 有门控机制,可选择性地记忆或遗忘信息\n",
    "- 更适合处理长序列数据"
   ],
   "id": "5edd92e0672df556"
  }
 ],
 "metadata": {
  "kernelspec": {
   "display_name": "Python 3",
   "language": "python",
   "name": "python3"
  },
  "language_info": {
   "codemirror_mode": {
    "name": "ipython",
    "version": 2
   },
   "file_extension": ".py",
   "mimetype": "text/x-python",
   "name": "python",
   "nbconvert_exporter": "python",
   "pygments_lexer": "ipython2",
   "version": "2.7.6"
  }
 },
 "nbformat": 4,
 "nbformat_minor": 5
}
