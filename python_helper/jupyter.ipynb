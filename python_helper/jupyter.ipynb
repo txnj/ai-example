{
 "cells": [
  {
   "cell_type": "markdown",
   "id": "3f2f7edd876f95d6",
   "metadata": {},
   "source": [
    "# jupyter常用命令\n",
    "```shell\n",
    "    poetry add --group dev jupyterlab\n",
    "    poetry add --group dev notebook\n",
    "    poetry run jupyter lab\n",
    "    poetry run jupyter server list\n",
    "```"
   ]
  }
 ],
 "metadata": {
  "kernelspec": {
   "display_name": "Python 3",
   "language": "python",
   "name": "python3"
  },
  "language_info": {
   "codemirror_mode": {
    "name": "ipython",
    "version": 2
   },
   "file_extension": ".py",
   "mimetype": "text/x-python",
   "name": "python",
   "nbconvert_exporter": "python",
   "pygments_lexer": "ipython2",
   "version": "2.7.6"
  }
 },
 "nbformat": 4,
 "nbformat_minor": 5
}
