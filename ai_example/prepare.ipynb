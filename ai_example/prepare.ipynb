{
 "cells": [
  {
   "cell_type": "markdown",
   "id": "7bdde8fbf7e50197",
   "metadata": {},
   "source": [
    "# windows安装python\n",
    "1. [python-3.10.11](https://www.python.org/downloads/release/python-31011/) 下载3.10并安装\n",
    "2. (可选)构建python安装包升级python\n",
    "    - 下载新版本源码[python-3.10.14源码](https://www.python.org/downloads/release/python-31014/)\n",
    "    - [visual studio buildtools](https://visualstudio.microsoft.com/zh-hans/downloads/?q=build+tools)安装桌面开发工具\n",
    "3. 解压(以下解压在c盘)按步骤运行以下命令,生成安装包点击升级即可\n",
    "    ```powershell\n",
    "    cd C:\\Python-3.10.14\\PCbuild && ./get_externals.bat`\n",
    "    C:\\Python-3.10.14\\Tools\\msi && ./get_externals.bat`\n",
    "    cd C:\\Python-3.10.14\\Tools\\msi && ./buildrelease.bat -x64 -o c:/tmp/PCbuild`\n",
    "    ```"
   ]
  },
  {
   "cell_type": "markdown",
   "id": "1cef701f069dfcf5",
   "metadata": {},
   "source": []
  },
  {
   "cell_type": "markdown",
   "id": "2b0076b12fc24971",
   "metadata": {},
   "source": [
    "# jupyter和langchain安装\n",
    "1. `poetry add notebook` [jupyter-doc](https://jupyter.org/install)\n",
    "2. `poetry add langchain` [langchain-doc](https://python.langchain.com/v0.2/docs/how_to/installation/)\n",
    "3. 插件市场搜索jupyter并安装"
   ]
  },
  {
   "cell_type": "code",
   "execution_count": null,
   "id": "e006e558-0a29-4933-8a66-2e9bfbad8af0",
   "metadata": {},
   "outputs": [],
   "source": []
  }
 ],
 "metadata": {
  "kernelspec": {
   "display_name": "Python 3 (ipykernel)",
   "language": "python",
   "name": "python3"
  },
  "language_info": {
   "codemirror_mode": {
    "name": "ipython",
    "version": 3
   },
   "file_extension": ".py",
   "mimetype": "text/x-python",
   "name": "python",
   "nbconvert_exporter": "python",
   "pygments_lexer": "ipython3",
   "version": "3.10.14"
  }
 },
 "nbformat": 4,
 "nbformat_minor": 5
}
