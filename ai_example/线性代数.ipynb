{
 "cells": [
  {
   "cell_type": "code",
   "metadata": {
    "ExecuteTime": {
     "end_time": "2024-09-03T07:53:38.580260Z",
     "start_time": "2024-09-03T07:53:38.571212Z"
    }
   },
   "source": [
    "import numpy as np\n",
    "\n",
    "# 向量\n",
    "vector = np.array([1, 2, 3, 4, 5])\n",
    "vector_norm = np.linalg.norm(vector)\n",
    "print(f\"Vector:\\n{vector}\")\n",
    "print(f\"Vector l2 norm:\\n{vector_norm}\")"
   ],
   "outputs": [
    {
     "name": "stdout",
     "output_type": "stream",
     "text": [
      "Vector:\n",
      "[1 2 3 4 5]\n",
      "Vector l2 norm:\n",
      "7.416198487095663\n"
     ]
    }
   ],
   "execution_count": 4
  },
  {
   "metadata": {
    "ExecuteTime": {
     "end_time": "2024-09-03T07:53:43.543435Z",
     "start_time": "2024-09-03T07:53:43.532345Z"
    }
   },
   "cell_type": "code",
   "source": [
    "# 距阵\n",
    "matrix = np.array([[1, 2, 3], [4, 5, 6], [7, 8, 9]])\n",
    "matrix_norm = np.linalg.norm(matrix)\n",
    "print(f\"Matrix:\\n{matrix}\")\n",
    "print(f\"Matrix l2 norm:\\n{matrix_norm}\")"
   ],
   "outputs": [
    {
     "name": "stdout",
     "output_type": "stream",
     "text": [
      "Matrix:\n",
      "[[1 2 3]\n",
      " [4 5 6]\n",
      " [7 8 9]]\n",
      "Matrix l2 norm:\n",
      "16.881943016134134\n"
     ]
    }
   ],
   "execution_count": 5
  },
  {
   "metadata": {
    "ExecuteTime": {
     "end_time": "2024-09-03T07:56:47.825464Z",
     "start_time": "2024-09-03T07:56:47.814592Z"
    }
   },
   "cell_type": "code",
   "source": [
    "# 张量\n",
    "tensor = np.array(\n",
    "    [\n",
    "        [[1, 2], [3, 4]],\n",
    "        [[5, 6], [7, 8]],\n",
    "        [[9, 10], [11, 12]],\n",
    "    ]\n",
    ")\n",
    "tensor_norm = np.linalg.norm(tensor)\n",
    "print(f\"Matrix:\\n{tensor}\")\n",
    "print(f\"Matrix l2 norm:\\n{tensor_norm}\")"
   ],
   "outputs": [
    {
     "name": "stdout",
     "output_type": "stream",
     "text": [
      "Matrix:\n",
      "[[[ 1  2]\n",
      "  [ 3  4]]\n",
      "\n",
      " [[ 5  6]\n",
      "  [ 7  8]]\n",
      "\n",
      " [[ 9 10]\n",
      "  [11 12]]]\n",
      "Matrix l2 norm:\n",
      "25.495097567963924\n"
     ]
    }
   ],
   "execution_count": 6
  },
  {
   "metadata": {
    "ExecuteTime": {
     "end_time": "2024-09-03T08:32:44.255056Z",
     "start_time": "2024-09-03T08:32:44.244885Z"
    }
   },
   "cell_type": "code",
   "source": [
    "# 图片\n",
    "import cv2\n",
    "\n",
    "# 创建随机二维距阵 黑白\n",
    "two_d_matrix = np.random.randint(0, 256, (224, 224), dtype=np.uint8)\n",
    "# 创建随机三维距阵 RGB\n",
    "three_d_matrix = np.random.randint(0, 256, (3, 224, 224), dtype=np.uint8)\n",
    "\n",
    "# 交换通道\n",
    "three_d_matrix_transposed = three_d_matrix.transpose(1, 2, 0)\n",
    "\n",
    "# cv2.imshow(\"two_d_matrix\", two_d_matrix)\n",
    "# cv2.imshow(\"three_d_matrix\", three_d_matrix_transposed)\n",
    "# cv2.waitKey(0)\n",
    "# 使用OpenCV将图片保存到本地\n",
    "cv2.imwrite(\"../images/two_d_matrix.jpg\", two_d_matrix)\n",
    "cv2.imwrite(\"../images/three_d_matrix.jpg\", three_d_matrix_transposed)"
   ],
   "outputs": [
    {
     "data": {
      "text/plain": [
       "True"
      ]
     },
     "execution_count": 10,
     "metadata": {},
     "output_type": "execute_result"
    }
   ],
   "execution_count": 10
  },
  {
   "metadata": {
    "ExecuteTime": {
     "end_time": "2024-09-03T08:52:03.021838Z",
     "start_time": "2024-09-03T08:52:03.000009Z"
    }
   },
   "cell_type": "code",
   "source": [
    "# 调整图像对比度\n",
    "image = cv2.imread(\"../images/o.jpg\")\n",
    "# 增加对比度\n",
    "increased_contrast = cv2.convertScaleAbs(image, alpha=1.5)\n",
    "# 较少对比度\n",
    "decreased_contrast = cv2.convertScaleAbs(image, alpha=0.5)\n",
    "# 拼接图片\n",
    "combined_image = cv2.hconcat([image, increased_contrast, decreased_contrast])\n",
    "cv2.imwrite(\"../images/combined_image.jpg\", combined_image)\n"
   ],
   "outputs": [
    {
     "data": {
      "text/plain": [
       "True"
      ]
     },
     "execution_count": 13,
     "metadata": {},
     "output_type": "execute_result"
    }
   ],
   "execution_count": 13
  },
  {
   "metadata": {},
   "cell_type": "code",
   "outputs": [],
   "execution_count": null,
   "source": ""
  }
 ],
 "metadata": {
  "kernelspec": {
   "display_name": ".venv",
   "language": "python",
   "name": "python3"
  },
  "language_info": {
   "codemirror_mode": {
    "name": "ipython",
    "version": 3
   },
   "file_extension": ".py",
   "mimetype": "text/x-python",
   "name": "python",
   "nbconvert_exporter": "python",
   "pygments_lexer": "ipython3",
   "version": "3.10.14"
  }
 },
 "nbformat": 4,
 "nbformat_minor": 2
}
