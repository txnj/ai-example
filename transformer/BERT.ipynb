{
 "cells": [
  {
   "metadata": {},
   "cell_type": "markdown",
   "source": [
    "# BERT\n",
    "Bert是一种先进的自然语言处理模型,全称为\"Bidirectional Encoder Representations from Transformers\"(双向编码器表示法从Transformer)。它由Google在2018年开发,主要用于处理各种自然语言任务。\n",
    "Bert的主要特点包括:\n",
    "1. 双向性:能够同时考虑文本的左右上下文。\n",
    "2. 预训练:在大规模文本语料上进行无监督预训练。\n",
    "3. 迁移学习:可以在特定任务上进行微调。\n",
    "4. 多任务能力:适用于多种NLP任务,如文本分类、问答系统等。\n",
    "5. 上下文相关的词嵌入:根据上下文生成动态词表示。\n",
    "Bert的出现显著提升了许多自然语言处理任务的性能,成为了NLP领域的一个重要里程碑。"
   ],
   "id": "5724f73d407d98b0"
  },
  {
   "metadata": {},
   "cell_type": "code",
   "outputs": [],
   "execution_count": null,
   "source": "",
   "id": "6503040637db1b08"
  }
 ],
 "metadata": {
  "kernelspec": {
   "display_name": "Python 3",
   "language": "python",
   "name": "python3"
  },
  "language_info": {
   "codemirror_mode": {
    "name": "ipython",
    "version": 2
   },
   "file_extension": ".py",
   "mimetype": "text/x-python",
   "name": "python",
   "nbconvert_exporter": "python",
   "pygments_lexer": "ipython2",
   "version": "2.7.6"
  }
 },
 "nbformat": 4,
 "nbformat_minor": 5
}
